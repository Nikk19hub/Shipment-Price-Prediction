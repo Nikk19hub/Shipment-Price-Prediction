{
 "cells": [
  {
   "cell_type": "markdown",
   "id": "e72d04df",
   "metadata": {},
   "source": [
    "### Problem Statement:\n",
    "The market for supply chain analytics is expected to develop at a CAGR of 17.3 percent\n",
    "from 2019 to 2024, more than doubling in size. This data demonstrates how supply\n",
    "chain organizations are understanding the advantages of being able to predict what will\n",
    "happen in the future with a decent degree of certainty. Supply chain leaders may use\n",
    "this data to address supply chain difficulties, cut costs, and enhance service levels all at\n",
    "the same time.\n",
    "\n",
    "The main goal is to predict the supply chain shipment pricing based on the available\n",
    "factors in the dataset."
   ]
  },
  {
   "cell_type": "markdown",
   "id": "a7e55796",
   "metadata": {},
   "source": [
    "### Approach: \n",
    "The classical machine learning tasks like Data Exploration, Data Cleaning,\n",
    "Feature Engineering, Model Building and Model Testing. Try out different machine\n",
    "learning algorithms that’s best fit for the above case."
   ]
  },
  {
   "cell_type": "markdown",
   "id": "31b2afa1",
   "metadata": {},
   "source": [
    "### Data Dictionary link\n",
    "https://data.usaid.gov/HIV-AIDS/Supply-Chain-Shipment-Pricing-Data/a3rc-nmf6"
   ]
  },
  {
   "cell_type": "markdown",
   "id": "b476cbe8",
   "metadata": {},
   "source": [
    "### Importing necessary libraries"
   ]
  },
  {
   "cell_type": "code",
   "execution_count": 1,
   "id": "39c0259c",
   "metadata": {},
   "outputs": [],
   "source": [
    "import numpy as np\n",
    "import pandas as pd\n",
    "import matplotlib.pyplot as plt\n",
    "import seaborn as sns\n",
    "\n",
    "import warnings\n",
    "warnings.filterwarnings(\"ignore\")"
   ]
  },
  {
   "cell_type": "markdown",
   "id": "f1439117",
   "metadata": {},
   "source": [
    "### Reading the csv file"
   ]
  },
  {
   "cell_type": "code",
   "execution_count": 2,
   "id": "6b624dc1",
   "metadata": {},
   "outputs": [],
   "source": [
    "df=pd.read_csv(\"SCMS_Delivery_History_Dataset.csv\")"
   ]
  },
  {
   "cell_type": "markdown",
   "id": "b113941c",
   "metadata": {},
   "source": [
    "### Setting the display options"
   ]
  },
  {
   "cell_type": "code",
   "execution_count": 3,
   "id": "9d862b41",
   "metadata": {},
   "outputs": [],
   "source": [
    "pd.set_option('display.max_columns', None)\n",
    "pd.set_option('display.max_rows', None)"
   ]
  },
  {
   "cell_type": "markdown",
   "id": "2442754c",
   "metadata": {},
   "source": [
    "### Observing Head and Tail of the Dataset"
   ]
  },
  {
   "cell_type": "code",
   "execution_count": 4,
   "id": "e47bc528",
   "metadata": {},
   "outputs": [
    {
     "data": {
      "text/html": [
       "<div>\n",
       "<style scoped>\n",
       "    .dataframe tbody tr th:only-of-type {\n",
       "        vertical-align: middle;\n",
       "    }\n",
       "\n",
       "    .dataframe tbody tr th {\n",
       "        vertical-align: top;\n",
       "    }\n",
       "\n",
       "    .dataframe thead th {\n",
       "        text-align: right;\n",
       "    }\n",
       "</style>\n",
       "<table border=\"1\" class=\"dataframe\">\n",
       "  <thead>\n",
       "    <tr style=\"text-align: right;\">\n",
       "      <th></th>\n",
       "      <th>ID</th>\n",
       "      <th>Project Code</th>\n",
       "      <th>PQ #</th>\n",
       "      <th>PO / SO #</th>\n",
       "      <th>ASN/DN #</th>\n",
       "      <th>Country</th>\n",
       "      <th>Managed By</th>\n",
       "      <th>Fulfill Via</th>\n",
       "      <th>Vendor INCO Term</th>\n",
       "      <th>Shipment Mode</th>\n",
       "      <th>PQ First Sent to Client Date</th>\n",
       "      <th>PO Sent to Vendor Date</th>\n",
       "      <th>Scheduled Delivery Date</th>\n",
       "      <th>Delivered to Client Date</th>\n",
       "      <th>Delivery Recorded Date</th>\n",
       "      <th>Product Group</th>\n",
       "      <th>Sub Classification</th>\n",
       "      <th>Vendor</th>\n",
       "      <th>Item Description</th>\n",
       "      <th>Molecule/Test Type</th>\n",
       "      <th>Brand</th>\n",
       "      <th>Dosage</th>\n",
       "      <th>Dosage Form</th>\n",
       "      <th>Unit of Measure (Per Pack)</th>\n",
       "      <th>Line Item Quantity</th>\n",
       "      <th>Line Item Value</th>\n",
       "      <th>Pack Price</th>\n",
       "      <th>Unit Price</th>\n",
       "      <th>Manufacturing Site</th>\n",
       "      <th>First Line Designation</th>\n",
       "      <th>Weight (Kilograms)</th>\n",
       "      <th>Freight Cost (USD)</th>\n",
       "      <th>Line Item Insurance (USD)</th>\n",
       "    </tr>\n",
       "  </thead>\n",
       "  <tbody>\n",
       "    <tr>\n",
       "      <th>0</th>\n",
       "      <td>1</td>\n",
       "      <td>100-CI-T01</td>\n",
       "      <td>Pre-PQ Process</td>\n",
       "      <td>SCMS-4</td>\n",
       "      <td>ASN-8</td>\n",
       "      <td>Côte d'Ivoire</td>\n",
       "      <td>PMO - US</td>\n",
       "      <td>Direct Drop</td>\n",
       "      <td>EXW</td>\n",
       "      <td>Air</td>\n",
       "      <td>Pre-PQ Process</td>\n",
       "      <td>Date Not Captured</td>\n",
       "      <td>2-Jun-06</td>\n",
       "      <td>2-Jun-06</td>\n",
       "      <td>2-Jun-06</td>\n",
       "      <td>HRDT</td>\n",
       "      <td>HIV test</td>\n",
       "      <td>RANBAXY Fine Chemicals LTD.</td>\n",
       "      <td>HIV, Reveal G3 Rapid HIV-1 Antibody Test, 30 T...</td>\n",
       "      <td>HIV, Reveal G3 Rapid HIV-1 Antibody Test</td>\n",
       "      <td>Reveal</td>\n",
       "      <td>NaN</td>\n",
       "      <td>Test kit</td>\n",
       "      <td>30</td>\n",
       "      <td>19</td>\n",
       "      <td>551.0</td>\n",
       "      <td>29.00</td>\n",
       "      <td>0.97</td>\n",
       "      <td>Ranbaxy Fine Chemicals LTD</td>\n",
       "      <td>Yes</td>\n",
       "      <td>13</td>\n",
       "      <td>780.34</td>\n",
       "      <td>NaN</td>\n",
       "    </tr>\n",
       "    <tr>\n",
       "      <th>1</th>\n",
       "      <td>3</td>\n",
       "      <td>108-VN-T01</td>\n",
       "      <td>Pre-PQ Process</td>\n",
       "      <td>SCMS-13</td>\n",
       "      <td>ASN-85</td>\n",
       "      <td>Vietnam</td>\n",
       "      <td>PMO - US</td>\n",
       "      <td>Direct Drop</td>\n",
       "      <td>EXW</td>\n",
       "      <td>Air</td>\n",
       "      <td>Pre-PQ Process</td>\n",
       "      <td>Date Not Captured</td>\n",
       "      <td>14-Nov-06</td>\n",
       "      <td>14-Nov-06</td>\n",
       "      <td>14-Nov-06</td>\n",
       "      <td>ARV</td>\n",
       "      <td>Pediatric</td>\n",
       "      <td>Aurobindo Pharma Limited</td>\n",
       "      <td>Nevirapine 10mg/ml, oral suspension, Bottle, 2...</td>\n",
       "      <td>Nevirapine</td>\n",
       "      <td>Generic</td>\n",
       "      <td>10mg/ml</td>\n",
       "      <td>Oral suspension</td>\n",
       "      <td>240</td>\n",
       "      <td>1000</td>\n",
       "      <td>6200.0</td>\n",
       "      <td>6.20</td>\n",
       "      <td>0.03</td>\n",
       "      <td>Aurobindo Unit III, India</td>\n",
       "      <td>Yes</td>\n",
       "      <td>358</td>\n",
       "      <td>4521.5</td>\n",
       "      <td>NaN</td>\n",
       "    </tr>\n",
       "    <tr>\n",
       "      <th>2</th>\n",
       "      <td>4</td>\n",
       "      <td>100-CI-T01</td>\n",
       "      <td>Pre-PQ Process</td>\n",
       "      <td>SCMS-20</td>\n",
       "      <td>ASN-14</td>\n",
       "      <td>Côte d'Ivoire</td>\n",
       "      <td>PMO - US</td>\n",
       "      <td>Direct Drop</td>\n",
       "      <td>FCA</td>\n",
       "      <td>Air</td>\n",
       "      <td>Pre-PQ Process</td>\n",
       "      <td>Date Not Captured</td>\n",
       "      <td>27-Aug-06</td>\n",
       "      <td>27-Aug-06</td>\n",
       "      <td>27-Aug-06</td>\n",
       "      <td>HRDT</td>\n",
       "      <td>HIV test</td>\n",
       "      <td>Abbott GmbH &amp; Co. KG</td>\n",
       "      <td>HIV 1/2, Determine Complete HIV Kit, 100 Tests</td>\n",
       "      <td>HIV 1/2, Determine Complete HIV Kit</td>\n",
       "      <td>Determine</td>\n",
       "      <td>NaN</td>\n",
       "      <td>Test kit</td>\n",
       "      <td>100</td>\n",
       "      <td>500</td>\n",
       "      <td>40000.0</td>\n",
       "      <td>80.00</td>\n",
       "      <td>0.80</td>\n",
       "      <td>ABBVIE GmbH &amp; Co.KG Wiesbaden</td>\n",
       "      <td>Yes</td>\n",
       "      <td>171</td>\n",
       "      <td>1653.78</td>\n",
       "      <td>NaN</td>\n",
       "    </tr>\n",
       "    <tr>\n",
       "      <th>3</th>\n",
       "      <td>15</td>\n",
       "      <td>108-VN-T01</td>\n",
       "      <td>Pre-PQ Process</td>\n",
       "      <td>SCMS-78</td>\n",
       "      <td>ASN-50</td>\n",
       "      <td>Vietnam</td>\n",
       "      <td>PMO - US</td>\n",
       "      <td>Direct Drop</td>\n",
       "      <td>EXW</td>\n",
       "      <td>Air</td>\n",
       "      <td>Pre-PQ Process</td>\n",
       "      <td>Date Not Captured</td>\n",
       "      <td>1-Sep-06</td>\n",
       "      <td>1-Sep-06</td>\n",
       "      <td>1-Sep-06</td>\n",
       "      <td>ARV</td>\n",
       "      <td>Adult</td>\n",
       "      <td>SUN PHARMACEUTICAL INDUSTRIES LTD (RANBAXY LAB...</td>\n",
       "      <td>Lamivudine 150mg, tablets, 60 Tabs</td>\n",
       "      <td>Lamivudine</td>\n",
       "      <td>Generic</td>\n",
       "      <td>150mg</td>\n",
       "      <td>Tablet</td>\n",
       "      <td>60</td>\n",
       "      <td>31920</td>\n",
       "      <td>127360.8</td>\n",
       "      <td>3.99</td>\n",
       "      <td>0.07</td>\n",
       "      <td>Ranbaxy, Paonta Shahib, India</td>\n",
       "      <td>Yes</td>\n",
       "      <td>1855</td>\n",
       "      <td>16007.06</td>\n",
       "      <td>NaN</td>\n",
       "    </tr>\n",
       "    <tr>\n",
       "      <th>4</th>\n",
       "      <td>16</td>\n",
       "      <td>108-VN-T01</td>\n",
       "      <td>Pre-PQ Process</td>\n",
       "      <td>SCMS-81</td>\n",
       "      <td>ASN-55</td>\n",
       "      <td>Vietnam</td>\n",
       "      <td>PMO - US</td>\n",
       "      <td>Direct Drop</td>\n",
       "      <td>EXW</td>\n",
       "      <td>Air</td>\n",
       "      <td>Pre-PQ Process</td>\n",
       "      <td>Date Not Captured</td>\n",
       "      <td>11-Aug-06</td>\n",
       "      <td>11-Aug-06</td>\n",
       "      <td>11-Aug-06</td>\n",
       "      <td>ARV</td>\n",
       "      <td>Adult</td>\n",
       "      <td>Aurobindo Pharma Limited</td>\n",
       "      <td>Stavudine 30mg, capsules, 60 Caps</td>\n",
       "      <td>Stavudine</td>\n",
       "      <td>Generic</td>\n",
       "      <td>30mg</td>\n",
       "      <td>Capsule</td>\n",
       "      <td>60</td>\n",
       "      <td>38000</td>\n",
       "      <td>121600.0</td>\n",
       "      <td>3.20</td>\n",
       "      <td>0.05</td>\n",
       "      <td>Aurobindo Unit III, India</td>\n",
       "      <td>Yes</td>\n",
       "      <td>7590</td>\n",
       "      <td>45450.08</td>\n",
       "      <td>NaN</td>\n",
       "    </tr>\n",
       "  </tbody>\n",
       "</table>\n",
       "</div>"
      ],
      "text/plain": [
       "   ID Project Code            PQ # PO / SO # ASN/DN #        Country  \\\n",
       "0   1   100-CI-T01  Pre-PQ Process    SCMS-4    ASN-8  Côte d'Ivoire   \n",
       "1   3   108-VN-T01  Pre-PQ Process   SCMS-13   ASN-85        Vietnam   \n",
       "2   4   100-CI-T01  Pre-PQ Process   SCMS-20   ASN-14  Côte d'Ivoire   \n",
       "3  15   108-VN-T01  Pre-PQ Process   SCMS-78   ASN-50        Vietnam   \n",
       "4  16   108-VN-T01  Pre-PQ Process   SCMS-81   ASN-55        Vietnam   \n",
       "\n",
       "  Managed By  Fulfill Via Vendor INCO Term Shipment Mode  \\\n",
       "0   PMO - US  Direct Drop              EXW           Air   \n",
       "1   PMO - US  Direct Drop              EXW           Air   \n",
       "2   PMO - US  Direct Drop              FCA           Air   \n",
       "3   PMO - US  Direct Drop              EXW           Air   \n",
       "4   PMO - US  Direct Drop              EXW           Air   \n",
       "\n",
       "  PQ First Sent to Client Date PO Sent to Vendor Date Scheduled Delivery Date  \\\n",
       "0               Pre-PQ Process      Date Not Captured                2-Jun-06   \n",
       "1               Pre-PQ Process      Date Not Captured               14-Nov-06   \n",
       "2               Pre-PQ Process      Date Not Captured               27-Aug-06   \n",
       "3               Pre-PQ Process      Date Not Captured                1-Sep-06   \n",
       "4               Pre-PQ Process      Date Not Captured               11-Aug-06   \n",
       "\n",
       "  Delivered to Client Date Delivery Recorded Date Product Group  \\\n",
       "0                 2-Jun-06               2-Jun-06          HRDT   \n",
       "1                14-Nov-06              14-Nov-06           ARV   \n",
       "2                27-Aug-06              27-Aug-06          HRDT   \n",
       "3                 1-Sep-06               1-Sep-06           ARV   \n",
       "4                11-Aug-06              11-Aug-06           ARV   \n",
       "\n",
       "  Sub Classification                                             Vendor  \\\n",
       "0           HIV test                        RANBAXY Fine Chemicals LTD.   \n",
       "1          Pediatric                           Aurobindo Pharma Limited   \n",
       "2           HIV test                               Abbott GmbH & Co. KG   \n",
       "3              Adult  SUN PHARMACEUTICAL INDUSTRIES LTD (RANBAXY LAB...   \n",
       "4              Adult                           Aurobindo Pharma Limited   \n",
       "\n",
       "                                    Item Description  \\\n",
       "0  HIV, Reveal G3 Rapid HIV-1 Antibody Test, 30 T...   \n",
       "1  Nevirapine 10mg/ml, oral suspension, Bottle, 2...   \n",
       "2     HIV 1/2, Determine Complete HIV Kit, 100 Tests   \n",
       "3                 Lamivudine 150mg, tablets, 60 Tabs   \n",
       "4                  Stavudine 30mg, capsules, 60 Caps   \n",
       "\n",
       "                         Molecule/Test Type      Brand   Dosage  \\\n",
       "0  HIV, Reveal G3 Rapid HIV-1 Antibody Test     Reveal      NaN   \n",
       "1                                Nevirapine    Generic  10mg/ml   \n",
       "2       HIV 1/2, Determine Complete HIV Kit  Determine      NaN   \n",
       "3                                Lamivudine    Generic    150mg   \n",
       "4                                 Stavudine    Generic     30mg   \n",
       "\n",
       "       Dosage Form  Unit of Measure (Per Pack)  Line Item Quantity  \\\n",
       "0         Test kit                          30                  19   \n",
       "1  Oral suspension                         240                1000   \n",
       "2         Test kit                         100                 500   \n",
       "3           Tablet                          60               31920   \n",
       "4          Capsule                          60               38000   \n",
       "\n",
       "   Line Item Value  Pack Price  Unit Price             Manufacturing Site  \\\n",
       "0            551.0       29.00        0.97     Ranbaxy Fine Chemicals LTD   \n",
       "1           6200.0        6.20        0.03      Aurobindo Unit III, India   \n",
       "2          40000.0       80.00        0.80  ABBVIE GmbH & Co.KG Wiesbaden   \n",
       "3         127360.8        3.99        0.07  Ranbaxy, Paonta Shahib, India   \n",
       "4         121600.0        3.20        0.05      Aurobindo Unit III, India   \n",
       "\n",
       "  First Line Designation Weight (Kilograms) Freight Cost (USD)  \\\n",
       "0                    Yes                 13             780.34   \n",
       "1                    Yes                358             4521.5   \n",
       "2                    Yes                171            1653.78   \n",
       "3                    Yes               1855           16007.06   \n",
       "4                    Yes               7590           45450.08   \n",
       "\n",
       "   Line Item Insurance (USD)  \n",
       "0                        NaN  \n",
       "1                        NaN  \n",
       "2                        NaN  \n",
       "3                        NaN  \n",
       "4                        NaN  "
      ]
     },
     "metadata": {},
     "output_type": "display_data"
    },
    {
     "data": {
      "text/html": [
       "<div>\n",
       "<style scoped>\n",
       "    .dataframe tbody tr th:only-of-type {\n",
       "        vertical-align: middle;\n",
       "    }\n",
       "\n",
       "    .dataframe tbody tr th {\n",
       "        vertical-align: top;\n",
       "    }\n",
       "\n",
       "    .dataframe thead th {\n",
       "        text-align: right;\n",
       "    }\n",
       "</style>\n",
       "<table border=\"1\" class=\"dataframe\">\n",
       "  <thead>\n",
       "    <tr style=\"text-align: right;\">\n",
       "      <th></th>\n",
       "      <th>ID</th>\n",
       "      <th>Project Code</th>\n",
       "      <th>PQ #</th>\n",
       "      <th>PO / SO #</th>\n",
       "      <th>ASN/DN #</th>\n",
       "      <th>Country</th>\n",
       "      <th>Managed By</th>\n",
       "      <th>Fulfill Via</th>\n",
       "      <th>Vendor INCO Term</th>\n",
       "      <th>Shipment Mode</th>\n",
       "      <th>PQ First Sent to Client Date</th>\n",
       "      <th>PO Sent to Vendor Date</th>\n",
       "      <th>Scheduled Delivery Date</th>\n",
       "      <th>Delivered to Client Date</th>\n",
       "      <th>Delivery Recorded Date</th>\n",
       "      <th>Product Group</th>\n",
       "      <th>Sub Classification</th>\n",
       "      <th>Vendor</th>\n",
       "      <th>Item Description</th>\n",
       "      <th>Molecule/Test Type</th>\n",
       "      <th>Brand</th>\n",
       "      <th>Dosage</th>\n",
       "      <th>Dosage Form</th>\n",
       "      <th>Unit of Measure (Per Pack)</th>\n",
       "      <th>Line Item Quantity</th>\n",
       "      <th>Line Item Value</th>\n",
       "      <th>Pack Price</th>\n",
       "      <th>Unit Price</th>\n",
       "      <th>Manufacturing Site</th>\n",
       "      <th>First Line Designation</th>\n",
       "      <th>Weight (Kilograms)</th>\n",
       "      <th>Freight Cost (USD)</th>\n",
       "      <th>Line Item Insurance (USD)</th>\n",
       "    </tr>\n",
       "  </thead>\n",
       "  <tbody>\n",
       "    <tr>\n",
       "      <th>10319</th>\n",
       "      <td>86818</td>\n",
       "      <td>103-ZW-T30</td>\n",
       "      <td>FPQ-15197</td>\n",
       "      <td>SO-50020</td>\n",
       "      <td>DN-4307</td>\n",
       "      <td>Zimbabwe</td>\n",
       "      <td>PMO - US</td>\n",
       "      <td>From RDC</td>\n",
       "      <td>N/A - From RDC</td>\n",
       "      <td>Truck</td>\n",
       "      <td>10/16/14</td>\n",
       "      <td>N/A - From RDC</td>\n",
       "      <td>31-Jul-15</td>\n",
       "      <td>15-Jul-15</td>\n",
       "      <td>20-Jul-15</td>\n",
       "      <td>ARV</td>\n",
       "      <td>Pediatric</td>\n",
       "      <td>SCMS from RDC</td>\n",
       "      <td>Lamivudine/Nevirapine/Zidovudine 30/50/60mg, d...</td>\n",
       "      <td>Lamivudine/Nevirapine/Zidovudine</td>\n",
       "      <td>Generic</td>\n",
       "      <td>30/50/60mg</td>\n",
       "      <td>Chewable/dispersible tablet - FDC</td>\n",
       "      <td>60</td>\n",
       "      <td>166571</td>\n",
       "      <td>599655.60</td>\n",
       "      <td>3.60</td>\n",
       "      <td>0.06</td>\n",
       "      <td>Mylan,  H-12 &amp; H-13, India</td>\n",
       "      <td>No</td>\n",
       "      <td>See DN-4307 (ID#:83920)</td>\n",
       "      <td>See DN-4307 (ID#:83920)</td>\n",
       "      <td>705.79</td>\n",
       "    </tr>\n",
       "    <tr>\n",
       "      <th>10320</th>\n",
       "      <td>86819</td>\n",
       "      <td>104-CI-T30</td>\n",
       "      <td>FPQ-15259</td>\n",
       "      <td>SO-50102</td>\n",
       "      <td>DN-4313</td>\n",
       "      <td>Côte d'Ivoire</td>\n",
       "      <td>PMO - US</td>\n",
       "      <td>From RDC</td>\n",
       "      <td>N/A - From RDC</td>\n",
       "      <td>Truck</td>\n",
       "      <td>10/24/14</td>\n",
       "      <td>N/A - From RDC</td>\n",
       "      <td>31-Jul-15</td>\n",
       "      <td>6-Aug-15</td>\n",
       "      <td>7-Aug-15</td>\n",
       "      <td>ARV</td>\n",
       "      <td>Adult</td>\n",
       "      <td>SCMS from RDC</td>\n",
       "      <td>Lamivudine/Zidovudine 150/300mg, tablets, 60 Tabs</td>\n",
       "      <td>Lamivudine/Zidovudine</td>\n",
       "      <td>Generic</td>\n",
       "      <td>150/300mg</td>\n",
       "      <td>Tablet - FDC</td>\n",
       "      <td>60</td>\n",
       "      <td>21072</td>\n",
       "      <td>137389.44</td>\n",
       "      <td>6.52</td>\n",
       "      <td>0.11</td>\n",
       "      <td>Hetero Unit III Hyderabad IN</td>\n",
       "      <td>No</td>\n",
       "      <td>See DN-4313 (ID#:83921)</td>\n",
       "      <td>See DN-4313 (ID#:83921)</td>\n",
       "      <td>161.71</td>\n",
       "    </tr>\n",
       "    <tr>\n",
       "      <th>10321</th>\n",
       "      <td>86821</td>\n",
       "      <td>110-ZM-T30</td>\n",
       "      <td>FPQ-14784</td>\n",
       "      <td>SO-49600</td>\n",
       "      <td>DN-4316</td>\n",
       "      <td>Zambia</td>\n",
       "      <td>PMO - US</td>\n",
       "      <td>From RDC</td>\n",
       "      <td>N/A - From RDC</td>\n",
       "      <td>Truck</td>\n",
       "      <td>8/12/14</td>\n",
       "      <td>N/A - From RDC</td>\n",
       "      <td>31-Aug-15</td>\n",
       "      <td>25-Aug-15</td>\n",
       "      <td>3-Sep-15</td>\n",
       "      <td>ARV</td>\n",
       "      <td>Adult</td>\n",
       "      <td>SCMS from RDC</td>\n",
       "      <td>Efavirenz/Lamivudine/Tenofovir Disoproxil Fuma...</td>\n",
       "      <td>Efavirenz/Lamivudine/Tenofovir Disoproxil Fuma...</td>\n",
       "      <td>Generic</td>\n",
       "      <td>600/300/300mg</td>\n",
       "      <td>Tablet - FDC</td>\n",
       "      <td>30</td>\n",
       "      <td>514526</td>\n",
       "      <td>5140114.74</td>\n",
       "      <td>9.99</td>\n",
       "      <td>0.33</td>\n",
       "      <td>Cipla Ltd A-42 MIDC Mahar. IN</td>\n",
       "      <td>No</td>\n",
       "      <td>Weight Captured Separately</td>\n",
       "      <td>Freight Included in Commodity Cost</td>\n",
       "      <td>5284.04</td>\n",
       "    </tr>\n",
       "    <tr>\n",
       "      <th>10322</th>\n",
       "      <td>86822</td>\n",
       "      <td>200-ZW-T30</td>\n",
       "      <td>FPQ-16523</td>\n",
       "      <td>SO-51680</td>\n",
       "      <td>DN-4334</td>\n",
       "      <td>Zimbabwe</td>\n",
       "      <td>PMO - US</td>\n",
       "      <td>From RDC</td>\n",
       "      <td>N/A - From RDC</td>\n",
       "      <td>Truck</td>\n",
       "      <td>7/1/15</td>\n",
       "      <td>N/A - From RDC</td>\n",
       "      <td>9-Sep-15</td>\n",
       "      <td>4-Aug-15</td>\n",
       "      <td>11-Aug-15</td>\n",
       "      <td>ARV</td>\n",
       "      <td>Adult</td>\n",
       "      <td>SCMS from RDC</td>\n",
       "      <td>Lamivudine/Zidovudine 150/300mg, tablets, 60 Tabs</td>\n",
       "      <td>Lamivudine/Zidovudine</td>\n",
       "      <td>Generic</td>\n",
       "      <td>150/300mg</td>\n",
       "      <td>Tablet - FDC</td>\n",
       "      <td>60</td>\n",
       "      <td>17465</td>\n",
       "      <td>113871.80</td>\n",
       "      <td>6.52</td>\n",
       "      <td>0.11</td>\n",
       "      <td>Mylan (formerly Matrix) Nashik</td>\n",
       "      <td>Yes</td>\n",
       "      <td>1392</td>\n",
       "      <td>Freight Included in Commodity Cost</td>\n",
       "      <td>134.03</td>\n",
       "    </tr>\n",
       "    <tr>\n",
       "      <th>10323</th>\n",
       "      <td>86823</td>\n",
       "      <td>103-ZW-T30</td>\n",
       "      <td>FPQ-15197</td>\n",
       "      <td>SO-50022</td>\n",
       "      <td>DN-4336</td>\n",
       "      <td>Zimbabwe</td>\n",
       "      <td>PMO - US</td>\n",
       "      <td>From RDC</td>\n",
       "      <td>N/A - From RDC</td>\n",
       "      <td>Truck</td>\n",
       "      <td>10/16/14</td>\n",
       "      <td>N/A - From RDC</td>\n",
       "      <td>31-Aug-15</td>\n",
       "      <td>4-Aug-15</td>\n",
       "      <td>11-Aug-15</td>\n",
       "      <td>ARV</td>\n",
       "      <td>Pediatric</td>\n",
       "      <td>SCMS from RDC</td>\n",
       "      <td>Lamivudine/Zidovudine 30/60mg, dispersible tab...</td>\n",
       "      <td>Lamivudine/Zidovudine</td>\n",
       "      <td>Generic</td>\n",
       "      <td>30/60mg</td>\n",
       "      <td>Chewable/dispersible tablet - FDC</td>\n",
       "      <td>60</td>\n",
       "      <td>36639</td>\n",
       "      <td>72911.61</td>\n",
       "      <td>1.99</td>\n",
       "      <td>0.03</td>\n",
       "      <td>Cipla, Goa, India</td>\n",
       "      <td>No</td>\n",
       "      <td>Weight Captured Separately</td>\n",
       "      <td>Freight Included in Commodity Cost</td>\n",
       "      <td>85.82</td>\n",
       "    </tr>\n",
       "  </tbody>\n",
       "</table>\n",
       "</div>"
      ],
      "text/plain": [
       "          ID Project Code       PQ # PO / SO # ASN/DN #        Country  \\\n",
       "10319  86818   103-ZW-T30  FPQ-15197  SO-50020  DN-4307       Zimbabwe   \n",
       "10320  86819   104-CI-T30  FPQ-15259  SO-50102  DN-4313  Côte d'Ivoire   \n",
       "10321  86821   110-ZM-T30  FPQ-14784  SO-49600  DN-4316         Zambia   \n",
       "10322  86822   200-ZW-T30  FPQ-16523  SO-51680  DN-4334       Zimbabwe   \n",
       "10323  86823   103-ZW-T30  FPQ-15197  SO-50022  DN-4336       Zimbabwe   \n",
       "\n",
       "      Managed By Fulfill Via Vendor INCO Term Shipment Mode  \\\n",
       "10319   PMO - US    From RDC   N/A - From RDC         Truck   \n",
       "10320   PMO - US    From RDC   N/A - From RDC         Truck   \n",
       "10321   PMO - US    From RDC   N/A - From RDC         Truck   \n",
       "10322   PMO - US    From RDC   N/A - From RDC         Truck   \n",
       "10323   PMO - US    From RDC   N/A - From RDC         Truck   \n",
       "\n",
       "      PQ First Sent to Client Date PO Sent to Vendor Date  \\\n",
       "10319                     10/16/14         N/A - From RDC   \n",
       "10320                     10/24/14         N/A - From RDC   \n",
       "10321                      8/12/14         N/A - From RDC   \n",
       "10322                       7/1/15         N/A - From RDC   \n",
       "10323                     10/16/14         N/A - From RDC   \n",
       "\n",
       "      Scheduled Delivery Date Delivered to Client Date Delivery Recorded Date  \\\n",
       "10319               31-Jul-15                15-Jul-15              20-Jul-15   \n",
       "10320               31-Jul-15                 6-Aug-15               7-Aug-15   \n",
       "10321               31-Aug-15                25-Aug-15               3-Sep-15   \n",
       "10322                9-Sep-15                 4-Aug-15              11-Aug-15   \n",
       "10323               31-Aug-15                 4-Aug-15              11-Aug-15   \n",
       "\n",
       "      Product Group Sub Classification         Vendor  \\\n",
       "10319           ARV          Pediatric  SCMS from RDC   \n",
       "10320           ARV              Adult  SCMS from RDC   \n",
       "10321           ARV              Adult  SCMS from RDC   \n",
       "10322           ARV              Adult  SCMS from RDC   \n",
       "10323           ARV          Pediatric  SCMS from RDC   \n",
       "\n",
       "                                        Item Description  \\\n",
       "10319  Lamivudine/Nevirapine/Zidovudine 30/50/60mg, d...   \n",
       "10320  Lamivudine/Zidovudine 150/300mg, tablets, 60 Tabs   \n",
       "10321  Efavirenz/Lamivudine/Tenofovir Disoproxil Fuma...   \n",
       "10322  Lamivudine/Zidovudine 150/300mg, tablets, 60 Tabs   \n",
       "10323  Lamivudine/Zidovudine 30/60mg, dispersible tab...   \n",
       "\n",
       "                                      Molecule/Test Type    Brand  \\\n",
       "10319                   Lamivudine/Nevirapine/Zidovudine  Generic   \n",
       "10320                              Lamivudine/Zidovudine  Generic   \n",
       "10321  Efavirenz/Lamivudine/Tenofovir Disoproxil Fuma...  Generic   \n",
       "10322                              Lamivudine/Zidovudine  Generic   \n",
       "10323                              Lamivudine/Zidovudine  Generic   \n",
       "\n",
       "              Dosage                        Dosage Form  \\\n",
       "10319     30/50/60mg  Chewable/dispersible tablet - FDC   \n",
       "10320      150/300mg                       Tablet - FDC   \n",
       "10321  600/300/300mg                       Tablet - FDC   \n",
       "10322      150/300mg                       Tablet - FDC   \n",
       "10323        30/60mg  Chewable/dispersible tablet - FDC   \n",
       "\n",
       "       Unit of Measure (Per Pack)  Line Item Quantity  Line Item Value  \\\n",
       "10319                          60              166571        599655.60   \n",
       "10320                          60               21072        137389.44   \n",
       "10321                          30              514526       5140114.74   \n",
       "10322                          60               17465        113871.80   \n",
       "10323                          60               36639         72911.61   \n",
       "\n",
       "       Pack Price  Unit Price              Manufacturing Site  \\\n",
       "10319        3.60        0.06      Mylan,  H-12 & H-13, India   \n",
       "10320        6.52        0.11    Hetero Unit III Hyderabad IN   \n",
       "10321        9.99        0.33   Cipla Ltd A-42 MIDC Mahar. IN   \n",
       "10322        6.52        0.11  Mylan (formerly Matrix) Nashik   \n",
       "10323        1.99        0.03               Cipla, Goa, India   \n",
       "\n",
       "      First Line Designation          Weight (Kilograms)  \\\n",
       "10319                     No     See DN-4307 (ID#:83920)   \n",
       "10320                     No     See DN-4313 (ID#:83921)   \n",
       "10321                     No  Weight Captured Separately   \n",
       "10322                    Yes                        1392   \n",
       "10323                     No  Weight Captured Separately   \n",
       "\n",
       "                       Freight Cost (USD)  Line Item Insurance (USD)  \n",
       "10319             See DN-4307 (ID#:83920)                     705.79  \n",
       "10320             See DN-4313 (ID#:83921)                     161.71  \n",
       "10321  Freight Included in Commodity Cost                    5284.04  \n",
       "10322  Freight Included in Commodity Cost                     134.03  \n",
       "10323  Freight Included in Commodity Cost                      85.82  "
      ]
     },
     "metadata": {},
     "output_type": "display_data"
    }
   ],
   "source": [
    "display(df.head())\n",
    "display(df.tail())"
   ]
  },
  {
   "cell_type": "markdown",
   "id": "bb55159d",
   "metadata": {},
   "source": [
    "### Shape of the Dataset"
   ]
  },
  {
   "cell_type": "code",
   "execution_count": 5,
   "id": "6651bfac",
   "metadata": {},
   "outputs": [
    {
     "name": "stdout",
     "output_type": "stream",
     "text": [
      "The Shape of the Dataset is :(10324, 33)\n"
     ]
    }
   ],
   "source": [
    "print('The Shape of the Dataset is :{}'.format(df.shape))"
   ]
  },
  {
   "cell_type": "markdown",
   "id": "0362fcae",
   "metadata": {},
   "source": [
    "### Info of the dataset"
   ]
  },
  {
   "cell_type": "code",
   "execution_count": 6,
   "id": "409ce4aa",
   "metadata": {},
   "outputs": [
    {
     "name": "stdout",
     "output_type": "stream",
     "text": [
      "<class 'pandas.core.frame.DataFrame'>\n",
      "RangeIndex: 10324 entries, 0 to 10323\n",
      "Data columns (total 33 columns):\n",
      " #   Column                        Non-Null Count  Dtype  \n",
      "---  ------                        --------------  -----  \n",
      " 0   ID                            10324 non-null  int64  \n",
      " 1   Project Code                  10324 non-null  object \n",
      " 2   PQ #                          10324 non-null  object \n",
      " 3   PO / SO #                     10324 non-null  object \n",
      " 4   ASN/DN #                      10324 non-null  object \n",
      " 5   Country                       10324 non-null  object \n",
      " 6   Managed By                    10324 non-null  object \n",
      " 7   Fulfill Via                   10324 non-null  object \n",
      " 8   Vendor INCO Term              10324 non-null  object \n",
      " 9   Shipment Mode                 9964 non-null   object \n",
      " 10  PQ First Sent to Client Date  10324 non-null  object \n",
      " 11  PO Sent to Vendor Date        10324 non-null  object \n",
      " 12  Scheduled Delivery Date       10324 non-null  object \n",
      " 13  Delivered to Client Date      10324 non-null  object \n",
      " 14  Delivery Recorded Date        10324 non-null  object \n",
      " 15  Product Group                 10324 non-null  object \n",
      " 16  Sub Classification            10324 non-null  object \n",
      " 17  Vendor                        10324 non-null  object \n",
      " 18  Item Description              10324 non-null  object \n",
      " 19  Molecule/Test Type            10324 non-null  object \n",
      " 20  Brand                         10324 non-null  object \n",
      " 21  Dosage                        8588 non-null   object \n",
      " 22  Dosage Form                   10324 non-null  object \n",
      " 23  Unit of Measure (Per Pack)    10324 non-null  int64  \n",
      " 24  Line Item Quantity            10324 non-null  int64  \n",
      " 25  Line Item Value               10324 non-null  float64\n",
      " 26  Pack Price                    10324 non-null  float64\n",
      " 27  Unit Price                    10324 non-null  float64\n",
      " 28  Manufacturing Site            10324 non-null  object \n",
      " 29  First Line Designation        10324 non-null  object \n",
      " 30  Weight (Kilograms)            10324 non-null  object \n",
      " 31  Freight Cost (USD)            10324 non-null  object \n",
      " 32  Line Item Insurance (USD)     10037 non-null  float64\n",
      "dtypes: float64(4), int64(3), object(26)\n",
      "memory usage: 2.6+ MB\n"
     ]
    }
   ],
   "source": [
    "df.info()"
   ]
  },
  {
   "cell_type": "markdown",
   "id": "4e958a8a",
   "metadata": {},
   "source": [
    "### Checking the null value count"
   ]
  },
  {
   "cell_type": "code",
   "execution_count": 7,
   "id": "14d7d501",
   "metadata": {},
   "outputs": [
    {
     "data": {
      "text/plain": [
       "ID                                 0\n",
       "Project Code                       0\n",
       "PQ #                               0\n",
       "PO / SO #                          0\n",
       "ASN/DN #                           0\n",
       "Country                            0\n",
       "Managed By                         0\n",
       "Fulfill Via                        0\n",
       "Vendor INCO Term                   0\n",
       "Shipment Mode                    360\n",
       "PQ First Sent to Client Date       0\n",
       "PO Sent to Vendor Date             0\n",
       "Scheduled Delivery Date            0\n",
       "Delivered to Client Date           0\n",
       "Delivery Recorded Date             0\n",
       "Product Group                      0\n",
       "Sub Classification                 0\n",
       "Vendor                             0\n",
       "Item Description                   0\n",
       "Molecule/Test Type                 0\n",
       "Brand                              0\n",
       "Dosage                          1736\n",
       "Dosage Form                        0\n",
       "Unit of Measure (Per Pack)         0\n",
       "Line Item Quantity                 0\n",
       "Line Item Value                    0\n",
       "Pack Price                         0\n",
       "Unit Price                         0\n",
       "Manufacturing Site                 0\n",
       "First Line Designation             0\n",
       "Weight (Kilograms)                 0\n",
       "Freight Cost (USD)                 0\n",
       "Line Item Insurance (USD)        287\n",
       "dtype: int64"
      ]
     },
     "execution_count": 7,
     "metadata": {},
     "output_type": "execute_result"
    }
   ],
   "source": [
    "df.isnull().sum()"
   ]
  },
  {
   "cell_type": "markdown",
   "id": "ab20212d",
   "metadata": {},
   "source": [
    "### Checking for Duplicates in the dataset"
   ]
  },
  {
   "cell_type": "code",
   "execution_count": 8,
   "id": "8afb3bcd",
   "metadata": {},
   "outputs": [
    {
     "data": {
      "text/plain": [
       "0"
      ]
     },
     "execution_count": 8,
     "metadata": {},
     "output_type": "execute_result"
    }
   ],
   "source": [
    "df.duplicated().sum()"
   ]
  },
  {
   "cell_type": "markdown",
   "id": "011551d4",
   "metadata": {},
   "source": [
    "### Descriptive Stats of Numeric and Categorical data"
   ]
  },
  {
   "cell_type": "code",
   "execution_count": 9,
   "id": "a3a1c2c1",
   "metadata": {},
   "outputs": [
    {
     "data": {
      "text/html": [
       "<div>\n",
       "<style scoped>\n",
       "    .dataframe tbody tr th:only-of-type {\n",
       "        vertical-align: middle;\n",
       "    }\n",
       "\n",
       "    .dataframe tbody tr th {\n",
       "        vertical-align: top;\n",
       "    }\n",
       "\n",
       "    .dataframe thead th {\n",
       "        text-align: right;\n",
       "    }\n",
       "</style>\n",
       "<table border=\"1\" class=\"dataframe\">\n",
       "  <thead>\n",
       "    <tr style=\"text-align: right;\">\n",
       "      <th></th>\n",
       "      <th>count</th>\n",
       "      <th>mean</th>\n",
       "      <th>std</th>\n",
       "      <th>min</th>\n",
       "      <th>25%</th>\n",
       "      <th>50%</th>\n",
       "      <th>75%</th>\n",
       "      <th>max</th>\n",
       "    </tr>\n",
       "  </thead>\n",
       "  <tbody>\n",
       "    <tr>\n",
       "      <th>ID</th>\n",
       "      <td>10324.0</td>\n",
       "      <td>51098.968229</td>\n",
       "      <td>31944.332496</td>\n",
       "      <td>1.0</td>\n",
       "      <td>12795.7500</td>\n",
       "      <td>57540.500</td>\n",
       "      <td>83648.2500</td>\n",
       "      <td>86823.00</td>\n",
       "    </tr>\n",
       "    <tr>\n",
       "      <th>Unit of Measure (Per Pack)</th>\n",
       "      <td>10324.0</td>\n",
       "      <td>77.990895</td>\n",
       "      <td>76.579764</td>\n",
       "      <td>1.0</td>\n",
       "      <td>30.0000</td>\n",
       "      <td>60.000</td>\n",
       "      <td>90.0000</td>\n",
       "      <td>1000.00</td>\n",
       "    </tr>\n",
       "    <tr>\n",
       "      <th>Line Item Quantity</th>\n",
       "      <td>10324.0</td>\n",
       "      <td>18332.534870</td>\n",
       "      <td>40035.302961</td>\n",
       "      <td>1.0</td>\n",
       "      <td>408.0000</td>\n",
       "      <td>3000.000</td>\n",
       "      <td>17039.7500</td>\n",
       "      <td>619999.00</td>\n",
       "    </tr>\n",
       "    <tr>\n",
       "      <th>Line Item Value</th>\n",
       "      <td>10324.0</td>\n",
       "      <td>157650.567347</td>\n",
       "      <td>345292.066979</td>\n",
       "      <td>0.0</td>\n",
       "      <td>4314.5925</td>\n",
       "      <td>30471.465</td>\n",
       "      <td>166447.1400</td>\n",
       "      <td>5951990.40</td>\n",
       "    </tr>\n",
       "    <tr>\n",
       "      <th>Pack Price</th>\n",
       "      <td>10324.0</td>\n",
       "      <td>21.910241</td>\n",
       "      <td>45.609223</td>\n",
       "      <td>0.0</td>\n",
       "      <td>4.1200</td>\n",
       "      <td>9.300</td>\n",
       "      <td>23.5925</td>\n",
       "      <td>1345.64</td>\n",
       "    </tr>\n",
       "    <tr>\n",
       "      <th>Unit Price</th>\n",
       "      <td>10324.0</td>\n",
       "      <td>0.611701</td>\n",
       "      <td>3.275808</td>\n",
       "      <td>0.0</td>\n",
       "      <td>0.0800</td>\n",
       "      <td>0.160</td>\n",
       "      <td>0.4700</td>\n",
       "      <td>238.65</td>\n",
       "    </tr>\n",
       "    <tr>\n",
       "      <th>Line Item Insurance (USD)</th>\n",
       "      <td>10037.0</td>\n",
       "      <td>240.117626</td>\n",
       "      <td>500.190568</td>\n",
       "      <td>0.0</td>\n",
       "      <td>6.5100</td>\n",
       "      <td>47.040</td>\n",
       "      <td>252.4000</td>\n",
       "      <td>7708.44</td>\n",
       "    </tr>\n",
       "  </tbody>\n",
       "</table>\n",
       "</div>"
      ],
      "text/plain": [
       "                              count           mean            std  min  \\\n",
       "ID                          10324.0   51098.968229   31944.332496  1.0   \n",
       "Unit of Measure (Per Pack)  10324.0      77.990895      76.579764  1.0   \n",
       "Line Item Quantity          10324.0   18332.534870   40035.302961  1.0   \n",
       "Line Item Value             10324.0  157650.567347  345292.066979  0.0   \n",
       "Pack Price                  10324.0      21.910241      45.609223  0.0   \n",
       "Unit Price                  10324.0       0.611701       3.275808  0.0   \n",
       "Line Item Insurance (USD)   10037.0     240.117626     500.190568  0.0   \n",
       "\n",
       "                                   25%        50%          75%         max  \n",
       "ID                          12795.7500  57540.500   83648.2500    86823.00  \n",
       "Unit of Measure (Per Pack)     30.0000     60.000      90.0000     1000.00  \n",
       "Line Item Quantity            408.0000   3000.000   17039.7500   619999.00  \n",
       "Line Item Value              4314.5925  30471.465  166447.1400  5951990.40  \n",
       "Pack Price                      4.1200      9.300      23.5925     1345.64  \n",
       "Unit Price                      0.0800      0.160       0.4700      238.65  \n",
       "Line Item Insurance (USD)       6.5100     47.040     252.4000     7708.44  "
      ]
     },
     "execution_count": 9,
     "metadata": {},
     "output_type": "execute_result"
    }
   ],
   "source": [
    "df.describe().T"
   ]
  },
  {
   "cell_type": "code",
   "execution_count": 10,
   "id": "7dfc4f59",
   "metadata": {},
   "outputs": [
    {
     "data": {
      "text/html": [
       "<div>\n",
       "<style scoped>\n",
       "    .dataframe tbody tr th:only-of-type {\n",
       "        vertical-align: middle;\n",
       "    }\n",
       "\n",
       "    .dataframe tbody tr th {\n",
       "        vertical-align: top;\n",
       "    }\n",
       "\n",
       "    .dataframe thead th {\n",
       "        text-align: right;\n",
       "    }\n",
       "</style>\n",
       "<table border=\"1\" class=\"dataframe\">\n",
       "  <thead>\n",
       "    <tr style=\"text-align: right;\">\n",
       "      <th></th>\n",
       "      <th>count</th>\n",
       "      <th>unique</th>\n",
       "      <th>top</th>\n",
       "      <th>freq</th>\n",
       "    </tr>\n",
       "  </thead>\n",
       "  <tbody>\n",
       "    <tr>\n",
       "      <th>Project Code</th>\n",
       "      <td>10324</td>\n",
       "      <td>142</td>\n",
       "      <td>116-ZA-T30</td>\n",
       "      <td>768</td>\n",
       "    </tr>\n",
       "    <tr>\n",
       "      <th>PQ #</th>\n",
       "      <td>10324</td>\n",
       "      <td>1237</td>\n",
       "      <td>Pre-PQ Process</td>\n",
       "      <td>2681</td>\n",
       "    </tr>\n",
       "    <tr>\n",
       "      <th>PO / SO #</th>\n",
       "      <td>10324</td>\n",
       "      <td>6233</td>\n",
       "      <td>SCMS-199289</td>\n",
       "      <td>67</td>\n",
       "    </tr>\n",
       "    <tr>\n",
       "      <th>ASN/DN #</th>\n",
       "      <td>10324</td>\n",
       "      <td>7030</td>\n",
       "      <td>ASN-19166</td>\n",
       "      <td>54</td>\n",
       "    </tr>\n",
       "    <tr>\n",
       "      <th>Country</th>\n",
       "      <td>10324</td>\n",
       "      <td>43</td>\n",
       "      <td>South Africa</td>\n",
       "      <td>1406</td>\n",
       "    </tr>\n",
       "    <tr>\n",
       "      <th>Managed By</th>\n",
       "      <td>10324</td>\n",
       "      <td>4</td>\n",
       "      <td>PMO - US</td>\n",
       "      <td>10265</td>\n",
       "    </tr>\n",
       "    <tr>\n",
       "      <th>Fulfill Via</th>\n",
       "      <td>10324</td>\n",
       "      <td>2</td>\n",
       "      <td>From RDC</td>\n",
       "      <td>5404</td>\n",
       "    </tr>\n",
       "    <tr>\n",
       "      <th>Vendor INCO Term</th>\n",
       "      <td>10324</td>\n",
       "      <td>8</td>\n",
       "      <td>N/A - From RDC</td>\n",
       "      <td>5404</td>\n",
       "    </tr>\n",
       "    <tr>\n",
       "      <th>Shipment Mode</th>\n",
       "      <td>9964</td>\n",
       "      <td>4</td>\n",
       "      <td>Air</td>\n",
       "      <td>6113</td>\n",
       "    </tr>\n",
       "    <tr>\n",
       "      <th>PQ First Sent to Client Date</th>\n",
       "      <td>10324</td>\n",
       "      <td>765</td>\n",
       "      <td>Pre-PQ Process</td>\n",
       "      <td>2476</td>\n",
       "    </tr>\n",
       "    <tr>\n",
       "      <th>PO Sent to Vendor Date</th>\n",
       "      <td>10324</td>\n",
       "      <td>897</td>\n",
       "      <td>N/A - From RDC</td>\n",
       "      <td>5404</td>\n",
       "    </tr>\n",
       "    <tr>\n",
       "      <th>Scheduled Delivery Date</th>\n",
       "      <td>10324</td>\n",
       "      <td>2006</td>\n",
       "      <td>29-Aug-14</td>\n",
       "      <td>97</td>\n",
       "    </tr>\n",
       "    <tr>\n",
       "      <th>Delivered to Client Date</th>\n",
       "      <td>10324</td>\n",
       "      <td>2093</td>\n",
       "      <td>29-Aug-14</td>\n",
       "      <td>74</td>\n",
       "    </tr>\n",
       "    <tr>\n",
       "      <th>Delivery Recorded Date</th>\n",
       "      <td>10324</td>\n",
       "      <td>2042</td>\n",
       "      <td>29-Aug-14</td>\n",
       "      <td>67</td>\n",
       "    </tr>\n",
       "    <tr>\n",
       "      <th>Product Group</th>\n",
       "      <td>10324</td>\n",
       "      <td>5</td>\n",
       "      <td>ARV</td>\n",
       "      <td>8550</td>\n",
       "    </tr>\n",
       "    <tr>\n",
       "      <th>Sub Classification</th>\n",
       "      <td>10324</td>\n",
       "      <td>6</td>\n",
       "      <td>Adult</td>\n",
       "      <td>6595</td>\n",
       "    </tr>\n",
       "    <tr>\n",
       "      <th>Vendor</th>\n",
       "      <td>10324</td>\n",
       "      <td>73</td>\n",
       "      <td>SCMS from RDC</td>\n",
       "      <td>5404</td>\n",
       "    </tr>\n",
       "    <tr>\n",
       "      <th>Item Description</th>\n",
       "      <td>10324</td>\n",
       "      <td>184</td>\n",
       "      <td>Efavirenz 600mg, tablets, 30 Tabs</td>\n",
       "      <td>755</td>\n",
       "    </tr>\n",
       "    <tr>\n",
       "      <th>Molecule/Test Type</th>\n",
       "      <td>10324</td>\n",
       "      <td>86</td>\n",
       "      <td>Efavirenz</td>\n",
       "      <td>1125</td>\n",
       "    </tr>\n",
       "    <tr>\n",
       "      <th>Brand</th>\n",
       "      <td>10324</td>\n",
       "      <td>48</td>\n",
       "      <td>Generic</td>\n",
       "      <td>7285</td>\n",
       "    </tr>\n",
       "    <tr>\n",
       "      <th>Dosage</th>\n",
       "      <td>8588</td>\n",
       "      <td>54</td>\n",
       "      <td>300mg</td>\n",
       "      <td>990</td>\n",
       "    </tr>\n",
       "    <tr>\n",
       "      <th>Dosage Form</th>\n",
       "      <td>10324</td>\n",
       "      <td>17</td>\n",
       "      <td>Tablet</td>\n",
       "      <td>3532</td>\n",
       "    </tr>\n",
       "    <tr>\n",
       "      <th>Manufacturing Site</th>\n",
       "      <td>10324</td>\n",
       "      <td>88</td>\n",
       "      <td>Aurobindo Unit III, India</td>\n",
       "      <td>3172</td>\n",
       "    </tr>\n",
       "    <tr>\n",
       "      <th>First Line Designation</th>\n",
       "      <td>10324</td>\n",
       "      <td>2</td>\n",
       "      <td>Yes</td>\n",
       "      <td>7030</td>\n",
       "    </tr>\n",
       "    <tr>\n",
       "      <th>Weight (Kilograms)</th>\n",
       "      <td>10324</td>\n",
       "      <td>4688</td>\n",
       "      <td>Weight Captured Separately</td>\n",
       "      <td>1507</td>\n",
       "    </tr>\n",
       "    <tr>\n",
       "      <th>Freight Cost (USD)</th>\n",
       "      <td>10324</td>\n",
       "      <td>6733</td>\n",
       "      <td>Freight Included in Commodity Cost</td>\n",
       "      <td>1442</td>\n",
       "    </tr>\n",
       "  </tbody>\n",
       "</table>\n",
       "</div>"
      ],
      "text/plain": [
       "                              count unique  \\\n",
       "Project Code                  10324    142   \n",
       "PQ #                          10324   1237   \n",
       "PO / SO #                     10324   6233   \n",
       "ASN/DN #                      10324   7030   \n",
       "Country                       10324     43   \n",
       "Managed By                    10324      4   \n",
       "Fulfill Via                   10324      2   \n",
       "Vendor INCO Term              10324      8   \n",
       "Shipment Mode                  9964      4   \n",
       "PQ First Sent to Client Date  10324    765   \n",
       "PO Sent to Vendor Date        10324    897   \n",
       "Scheduled Delivery Date       10324   2006   \n",
       "Delivered to Client Date      10324   2093   \n",
       "Delivery Recorded Date        10324   2042   \n",
       "Product Group                 10324      5   \n",
       "Sub Classification            10324      6   \n",
       "Vendor                        10324     73   \n",
       "Item Description              10324    184   \n",
       "Molecule/Test Type            10324     86   \n",
       "Brand                         10324     48   \n",
       "Dosage                         8588     54   \n",
       "Dosage Form                   10324     17   \n",
       "Manufacturing Site            10324     88   \n",
       "First Line Designation        10324      2   \n",
       "Weight (Kilograms)            10324   4688   \n",
       "Freight Cost (USD)            10324   6733   \n",
       "\n",
       "                                                             top   freq  \n",
       "Project Code                                          116-ZA-T30    768  \n",
       "PQ #                                              Pre-PQ Process   2681  \n",
       "PO / SO #                                            SCMS-199289     67  \n",
       "ASN/DN #                                               ASN-19166     54  \n",
       "Country                                             South Africa   1406  \n",
       "Managed By                                              PMO - US  10265  \n",
       "Fulfill Via                                             From RDC   5404  \n",
       "Vendor INCO Term                                  N/A - From RDC   5404  \n",
       "Shipment Mode                                                Air   6113  \n",
       "PQ First Sent to Client Date                      Pre-PQ Process   2476  \n",
       "PO Sent to Vendor Date                            N/A - From RDC   5404  \n",
       "Scheduled Delivery Date                                29-Aug-14     97  \n",
       "Delivered to Client Date                               29-Aug-14     74  \n",
       "Delivery Recorded Date                                 29-Aug-14     67  \n",
       "Product Group                                                ARV   8550  \n",
       "Sub Classification                                         Adult   6595  \n",
       "Vendor                                             SCMS from RDC   5404  \n",
       "Item Description               Efavirenz 600mg, tablets, 30 Tabs    755  \n",
       "Molecule/Test Type                                     Efavirenz   1125  \n",
       "Brand                                                    Generic   7285  \n",
       "Dosage                                                     300mg    990  \n",
       "Dosage Form                                               Tablet   3532  \n",
       "Manufacturing Site                     Aurobindo Unit III, India   3172  \n",
       "First Line Designation                                       Yes   7030  \n",
       "Weight (Kilograms)                    Weight Captured Separately   1507  \n",
       "Freight Cost (USD)            Freight Included in Commodity Cost   1442  "
      ]
     },
     "execution_count": 10,
     "metadata": {},
     "output_type": "execute_result"
    }
   ],
   "source": [
    "df.describe(include=object).T"
   ]
  },
  {
   "cell_type": "markdown",
   "id": "ce746f03",
   "metadata": {},
   "source": [
    "### EDA"
   ]
  },
  {
   "cell_type": "markdown",
   "id": "690c9e17",
   "metadata": {},
   "source": [
    "* Let us define a function 'univariateAnalysis_numeric' to display information as part of univariate analysis of numeric variables. The function will accept coulmn name and number of bins as arguments\n",
    "* The function will display the statistical description of the numeric variable,skewness,histogram or distplot to view the distribution and the box plot to view 5 point summary and outliers if any."
   ]
  },
  {
   "cell_type": "code",
   "execution_count": 11,
   "id": "3d80c595",
   "metadata": {},
   "outputs": [],
   "source": [
    "def univariateAnalysis_numeric(column,nbins):\n",
    "    print(\"Description of \" + column)\n",
    "    print(\"----------------------------------------------------------------------------\")\n",
    "    print(df[column].describe(),end='\\n')\n",
    "    \n",
    "    print(\"\\n Skewness of \" + column)\n",
    "    print(\"----------------------------------------------------------------------------\")\n",
    "    print(np.round(df[column].skew(),4),end='\\n')\n",
    "    \n",
    "    print(\"\\n Histogram and Boxplot of \" + column)\n",
    "    print(\"----------------------------------------------------------------------------\")\n",
    "    fig,axs = plt.subplots(nrows=1,ncols=2, figsize=(14,5))\n",
    "    print(sns.histplot(df[column], kde=True, color='c', ax=axs[0]))\n",
    "    print(sns.boxplot(x=df[column], ax=axs[1],color='r'))\n",
    "    plt.show();"
   ]
  },
  {
   "cell_type": "code",
   "execution_count": 12,
   "id": "e067b73b",
   "metadata": {
    "scrolled": true
   },
   "outputs": [
    {
     "name": "stdout",
     "output_type": "stream",
     "text": [
      "Description of ID\n",
      "----------------------------------------------------------------------------\n",
      "count    10324.000000\n",
      "mean     51098.968229\n",
      "std      31944.332496\n",
      "min          1.000000\n",
      "25%      12795.750000\n",
      "50%      57540.500000\n",
      "75%      83648.250000\n",
      "max      86823.000000\n",
      "Name: ID, dtype: float64\n",
      "\n",
      " Skewness of ID\n",
      "----------------------------------------------------------------------------\n",
      "-0.2304\n",
      "\n",
      " Histogram and Boxplot of ID\n",
      "----------------------------------------------------------------------------\n",
      "AxesSubplot(0.125,0.125;0.352273x0.755)\n",
      "AxesSubplot(0.547727,0.125;0.352273x0.755)\n"
     ]
    },
    {
     "data": {
      "image/png": "[encoded data removed]",
      "text/plain": [
       "<Figure size 1008x360 with 2 Axes>"
      ]
     },
     "metadata": {
      "needs_background": "light"
     },
     "output_type": "display_data"
    },
    {
     "name": "stdout",
     "output_type": "stream",
     "text": [
      "None\n",
      "Description of Unit of Measure (Per Pack)\n",
      "----------------------------------------------------------------------------\n",
      "count    10324.000000\n",
      "mean        77.990895\n",
      "std         76.579764\n",
      "min          1.000000\n",
      "25%         30.000000\n",
      "50%         60.000000\n",
      "75%         90.000000\n",
      "max       1000.000000\n",
      "Name: Unit of Measure (Per Pack), dtype: float64\n",
      "\n",
      " Skewness of Unit of Measure (Per Pack)\n",
      "----------------------------------------------------------------------------\n",
      "4.3025\n",
      "\n",
      " Histogram and Boxplot of Unit of Measure (Per Pack)\n",
      "----------------------------------------------------------------------------\n",
      "AxesSubplot(0.125,0.125;0.352273x0.755)\n",
      "AxesSubplot(0.547727,0.125;0.352273x0.755)\n"
     ]
    },
    {
     "data": {
      "image/png": "[encoded data removed]",
      "text/plain": [
       "<Figure size 1008x360 with 2 Axes>"
      ]
     },
     "metadata": {
      "needs_background": "light"
     },
     "output_type": "display_data"
    },
    {
     "name": "stdout",
     "output_type": "stream",
     "text": [
      "None\n",
      "Description of Line Item Quantity\n",
      "----------------------------------------------------------------------------\n",
      "count     10324.000000\n",
      "mean      18332.534870\n",
      "std       40035.302961\n",
      "min           1.000000\n",
      "25%         408.000000\n",
      "50%        3000.000000\n",
      "75%       17039.750000\n",
      "max      619999.000000\n",
      "Name: Line Item Quantity, dtype: float64\n",
      "\n",
      " Skewness of Line Item Quantity\n",
      "----------------------------------------------------------------------------\n",
      "5.0383\n",
      "\n",
      " Histogram and Boxplot of Line Item Quantity\n",
      "----------------------------------------------------------------------------\n",
      "AxesSubplot(0.125,0.125;0.352273x0.755)\n",
      "AxesSubplot(0.547727,0.125;0.352273x0.755)\n"
     ]
    },
    {
     "data": {
      "image/png": "[encoded data removed]",
      "text/plain": [
       "<Figure size 1008x360 with 2 Axes>"
      ]
     },
     "metadata": {
      "needs_background": "light"
     },
     "output_type": "display_data"
    },
    {
     "name": "stdout",
     "output_type": "stream",
     "text": [
      "None\n",
      "Description of Line Item Value\n",
      "----------------------------------------------------------------------------\n",
      "count    1.032400e+04\n",
      "mean     1.576506e+05\n",
      "std      3.452921e+05\n",
      "min      0.000000e+00\n",
      "25%      4.314593e+03\n",
      "50%      3.047147e+04\n",
      "75%      1.664471e+05\n",
      "max      5.951990e+06\n",
      "Name: Line Item Value, dtype: float64\n",
      "\n",
      " Skewness of Line Item Value\n",
      "----------------------------------------------------------------------------\n",
      "5.837\n",
      "\n",
      " Histogram and Boxplot of Line Item Value\n",
      "----------------------------------------------------------------------------\n",
      "AxesSubplot(0.125,0.125;0.352273x0.755)\n",
      "AxesSubplot(0.547727,0.125;0.352273x0.755)\n"
     ]
    },
    {
     "data": {
      "image/png": "[encoded data removed]",
      "text/plain": [
       "<Figure size 1008x360 with 2 Axes>"
      ]
     },
     "metadata": {
      "needs_background": "light"
     },
     "output_type": "display_data"
    },
    {
     "name": "stdout",
     "output_type": "stream",
     "text": [
      "None\n",
      "Description of Pack Price\n",
      "----------------------------------------------------------------------------\n",
      "count    10324.000000\n",
      "mean        21.910241\n",
      "std         45.609223\n",
      "min          0.000000\n",
      "25%          4.120000\n",
      "50%          9.300000\n",
      "75%         23.592500\n",
      "max       1345.640000\n",
      "Name: Pack Price, dtype: float64\n",
      "\n",
      " Skewness of Pack Price\n",
      "----------------------------------------------------------------------------\n",
      "12.9884\n",
      "\n",
      " Histogram and Boxplot of Pack Price\n",
      "----------------------------------------------------------------------------\n",
      "AxesSubplot(0.125,0.125;0.352273x0.755)\n",
      "AxesSubplot(0.547727,0.125;0.352273x0.755)\n"
     ]
    },
    {
     "data": {
      "image/png": "[encoded data removed]",
      "text/plain": [
       "<Figure size 1008x360 with 2 Axes>"
      ]
     },
     "metadata": {
      "needs_background": "light"
     },
     "output_type": "display_data"
    },
    {
     "name": "stdout",
     "output_type": "stream",
     "text": [
      "None\n",
      "Description of Unit Price\n",
      "----------------------------------------------------------------------------\n",
      "count    10324.000000\n",
      "mean         0.611701\n",
      "std          3.275808\n",
      "min          0.000000\n",
      "25%          0.080000\n",
      "50%          0.160000\n",
      "75%          0.470000\n",
      "max        238.650000\n",
      "Name: Unit Price, dtype: float64\n",
      "\n",
      " Skewness of Unit Price\n",
      "----------------------------------------------------------------------------\n",
      "40.5848\n",
      "\n",
      " Histogram and Boxplot of Unit Price\n",
      "----------------------------------------------------------------------------\n",
      "AxesSubplot(0.125,0.125;0.352273x0.755)\n",
      "AxesSubplot(0.547727,0.125;0.352273x0.755)\n"
     ]
    },
    {
     "data": {
      "image/png": "[encoded data removed]",
      "text/plain": [
       "<Figure size 1008x360 with 2 Axes>"
      ]
     },
     "metadata": {
      "needs_background": "light"
     },
     "output_type": "display_data"
    },
    {
     "name": "stdout",
     "output_type": "stream",
     "text": [
      "None\n",
      "Description of Line Item Insurance (USD)\n",
      "----------------------------------------------------------------------------\n",
      "count    10037.000000\n",
      "mean       240.117626\n",
      "std        500.190568\n",
      "min          0.000000\n",
      "25%          6.510000\n",
      "50%         47.040000\n",
      "75%        252.400000\n",
      "max       7708.440000\n",
      "Name: Line Item Insurance (USD), dtype: float64\n",
      "\n",
      " Skewness of Line Item Insurance (USD)\n",
      "----------------------------------------------------------------------------\n",
      "4.8272\n",
      "\n",
      " Histogram and Boxplot of Line Item Insurance (USD)\n",
      "----------------------------------------------------------------------------\n",
      "AxesSubplot(0.125,0.125;0.352273x0.755)\n",
      "AxesSubplot(0.547727,0.125;0.352273x0.755)\n"
     ]
    },
    {
     "data": {
      "image/png": "[encoded data removed]",
      "text/plain": [
       "<Figure size 1008x360 with 2 Axes>"
      ]
     },
     "metadata": {
      "needs_background": "light"
     },
     "output_type": "display_data"
    },
    {
     "name": "stdout",
     "output_type": "stream",
     "text": [
      "None\n"
     ]
    }
   ],
   "source": [
    "for column in df.columns:\n",
    "    if df[column].dtype != 'object':\n",
    "        print(univariateAnalysis_numeric(column,60))\n",
    "       "
   ]
  },
  {
   "cell_type": "markdown",
   "id": "ac6b7d53",
   "metadata": {},
   "source": [
    "### Visualizing Missing Values"
   ]
  },
  {
   "cell_type": "code",
   "execution_count": 13,
   "id": "0a69e37d",
   "metadata": {},
   "outputs": [
    {
     "data": {
      "image/png": "[encoded data removed]",
      "text/plain": [
       "<Figure size 720x576 with 2 Axes>"
      ]
     },
     "metadata": {
      "needs_background": "light"
     },
     "output_type": "display_data"
    }
   ],
   "source": [
    "plt.figure(figsize=(10,8))\n",
    "sns.heatmap(df.isna())\n",
    "plt.title(\"No of Missing data present in our columns\")\n",
    "plt.show()"
   ]
  },
  {
   "cell_type": "code",
   "execution_count": 14,
   "id": "0d811318",
   "metadata": {},
   "outputs": [
    {
     "data": {
      "text/plain": [
       "Index(['id', 'project_code', 'pq_#', 'po_/_so_#', 'asn/dn_#', 'country',\n",
       "       'managed_by', 'fulfill_via', 'vendor_inco_term', 'shipment_mode',\n",
       "       'pq_first_sent_to_client_date', 'po_sent_to_vendor_date',\n",
       "       'scheduled_delivery_date', 'delivered_to_client_date',\n",
       "       'delivery_recorded_date', 'product_group', 'sub_classification',\n",
       "       'vendor', 'item_description', 'molecule/test_type', 'brand', 'dosage',\n",
       "       'dosage_form', 'unit_of_measure_(per_pack)', 'line_item_quantity',\n",
       "       'line_item_value', 'pack_price', 'unit_price', 'manufacturing_site',\n",
       "       'first_line_designation', 'weight_(kilograms)', 'freight_cost_(usd)',\n",
       "       'line_item_insurance_(usd)'],\n",
       "      dtype='object')"
      ]
     },
     "execution_count": 14,
     "metadata": {},
     "output_type": "execute_result"
    }
   ],
   "source": [
    "# Changing column names to lower case and removing unwanted spaces \n",
    "df.columns=df.columns.str.lower()\n",
    "df.columns=df.columns.str.replace(\" \",\"_\")\n",
    "df.columns"
   ]
  },
  {
   "cell_type": "markdown",
   "id": "85c229d6",
   "metadata": {},
   "source": [
    "### Missing Data imputation"
   ]
  },
  {
   "cell_type": "code",
   "execution_count": 15,
   "id": "0c35c2d2",
   "metadata": {},
   "outputs": [],
   "source": [
    "missing_data=df[[\"shipment_mode\",\"dosage\",\"line_item_insurance_(usd)\"]]"
   ]
  },
  {
   "cell_type": "code",
   "execution_count": 16,
   "id": "3ffdc469",
   "metadata": {},
   "outputs": [
    {
     "data": {
      "text/html": [
       "<div>\n",
       "<style scoped>\n",
       "    .dataframe tbody tr th:only-of-type {\n",
       "        vertical-align: middle;\n",
       "    }\n",
       "\n",
       "    .dataframe tbody tr th {\n",
       "        vertical-align: top;\n",
       "    }\n",
       "\n",
       "    .dataframe thead th {\n",
       "        text-align: right;\n",
       "    }\n",
       "</style>\n",
       "<table border=\"1\" class=\"dataframe\">\n",
       "  <thead>\n",
       "    <tr style=\"text-align: right;\">\n",
       "      <th></th>\n",
       "      <th>shipment_mode</th>\n",
       "      <th>dosage</th>\n",
       "      <th>line_item_insurance_(usd)</th>\n",
       "    </tr>\n",
       "  </thead>\n",
       "  <tbody>\n",
       "    <tr>\n",
       "      <th>0</th>\n",
       "      <td>Air</td>\n",
       "      <td>NaN</td>\n",
       "      <td>NaN</td>\n",
       "    </tr>\n",
       "    <tr>\n",
       "      <th>1</th>\n",
       "      <td>Air</td>\n",
       "      <td>10mg/ml</td>\n",
       "      <td>NaN</td>\n",
       "    </tr>\n",
       "    <tr>\n",
       "      <th>2</th>\n",
       "      <td>Air</td>\n",
       "      <td>NaN</td>\n",
       "      <td>NaN</td>\n",
       "    </tr>\n",
       "    <tr>\n",
       "      <th>3</th>\n",
       "      <td>Air</td>\n",
       "      <td>150mg</td>\n",
       "      <td>NaN</td>\n",
       "    </tr>\n",
       "    <tr>\n",
       "      <th>4</th>\n",
       "      <td>Air</td>\n",
       "      <td>30mg</td>\n",
       "      <td>NaN</td>\n",
       "    </tr>\n",
       "  </tbody>\n",
       "</table>\n",
       "</div>"
      ],
      "text/plain": [
       "  shipment_mode   dosage  line_item_insurance_(usd)\n",
       "0           Air      NaN                        NaN\n",
       "1           Air  10mg/ml                        NaN\n",
       "2           Air      NaN                        NaN\n",
       "3           Air    150mg                        NaN\n",
       "4           Air     30mg                        NaN"
      ]
     },
     "execution_count": 16,
     "metadata": {},
     "output_type": "execute_result"
    }
   ],
   "source": [
    "missing_data.head()"
   ]
  },
  {
   "cell_type": "code",
   "execution_count": 17,
   "id": "344b5db4",
   "metadata": {},
   "outputs": [
    {
     "name": "stdout",
     "output_type": "stream",
     "text": [
      "shipment_mode has 360 missing values\n",
      "dosage has 1736 missing values\n",
      "line_item_insurance_(usd) has 287 missing values\n"
     ]
    }
   ],
   "source": [
    "for cols in missing_data.columns[0:]:\n",
    "        print(cols,\"has\",df[cols].isna().sum(),\"missing values\")"
   ]
  },
  {
   "cell_type": "markdown",
   "id": "5278dfc7",
   "metadata": {},
   "source": [
    "### Shipment Mode"
   ]
  },
  {
   "cell_type": "code",
   "execution_count": 18,
   "id": "1d958391",
   "metadata": {},
   "outputs": [],
   "source": [
    "def plot(df,col_name):\n",
    "    fig=plt.figure(figsize=(15,5))\n",
    "    ax0=fig.add_subplot(121)\n",
    "    df.value_counts().plot.bar()\n",
    "    plt.title(\"bar plot for {} column\".format(col_name))\n",
    "    \n",
    "    ax1=fig.add_subplot(122)\n",
    "    sm=df.value_counts().index\n",
    "    df.value_counts().plot.pie(labels=sm,autopct='%1.1f%%')\n",
    "    plt.title(\"pie chart for {} column\".format(col_name))\n",
    "    plt.show()"
   ]
  },
  {
   "cell_type": "code",
   "execution_count": 19,
   "id": "0e97e6ff",
   "metadata": {},
   "outputs": [
    {
     "data": {
      "image/png": "[encoded data removed]",
      "text/plain": [
       "<Figure size 1080x360 with 2 Axes>"
      ]
     },
     "metadata": {
      "needs_background": "light"
     },
     "output_type": "display_data"
    }
   ],
   "source": [
    "plot(df['shipment_mode'],\"shipment_mode\")"
   ]
  },
  {
   "cell_type": "code",
   "execution_count": 20,
   "id": "b3575640",
   "metadata": {},
   "outputs": [
    {
     "data": {
      "text/plain": [
       "Air            6473\n",
       "Truck          2830\n",
       "Air Charter     650\n",
       "Ocean           371\n",
       "Name: shipment_mode, dtype: int64"
      ]
     },
     "execution_count": 20,
     "metadata": {},
     "output_type": "execute_result"
    }
   ],
   "source": [
    "missing_data[\"shipment_mode\"].fillna(\"Air\",inplace=True)\n",
    "missing_data[\"shipment_mode\"].value_counts(dropna=False)"
   ]
  },
  {
   "cell_type": "markdown",
   "id": "313373d8",
   "metadata": {},
   "source": [
    "### Dosage"
   ]
  },
  {
   "cell_type": "code",
   "execution_count": 21,
   "id": "f2ad7891",
   "metadata": {},
   "outputs": [
    {
     "name": "stdout",
     "output_type": "stream",
     "text": [
      "% Missing Values in Dosage = 17.0\n"
     ]
    }
   ],
   "source": [
    "Percent_missing_values=df[\"dosage\"].isnull().sum()/df.shape[0]\n",
    "print('% Missing Values in Dosage =',np.round(Percent_missing_values,2)*100)"
   ]
  },
  {
   "cell_type": "code",
   "execution_count": 22,
   "id": "3fcf92cf",
   "metadata": {},
   "outputs": [
    {
     "data": {
      "text/plain": [
       "300mg            990\n",
       "200mg            932\n",
       "600mg            772\n",
       "150/300mg        600\n",
       "150/300/200mg    580\n",
       "Name: dosage, dtype: int64"
      ]
     },
     "execution_count": 22,
     "metadata": {},
     "output_type": "execute_result"
    }
   ],
   "source": [
    "df[\"dosage\"].value_counts().head()"
   ]
  },
  {
   "cell_type": "code",
   "execution_count": 23,
   "id": "8535d097",
   "metadata": {},
   "outputs": [
    {
     "data": {
      "image/png": "[encoded data removed]",
      "text/plain": [
       "<Figure size 1800x360 with 2 Axes>"
      ]
     },
     "metadata": {
      "needs_background": "light"
     },
     "output_type": "display_data"
    }
   ],
   "source": [
    "fig=plt.figure(figsize=(25,5))\n",
    "ax0=fig.add_subplot(121)\n",
    "df[\"dosage\"].value_counts(dropna=False).plot.bar()\n",
    "plt.title(\"dosage valuecounts in bar chart\")\n",
    "\n",
    "ax1=fig.add_subplot(122)\n",
    "x=df[\"dosage\"]\n",
    "y=df.index\n",
    "plt.xticks(rotation=90)\n",
    "sns.stripplot(x=x,y=y)\n",
    "plt.title(\"dosage valuecounts in strip plot\")\n",
    "plt.tight_layout()\n",
    "plt.show()"
   ]
  },
  {
   "cell_type": "code",
   "execution_count": 24,
   "id": "4799f07c",
   "metadata": {},
   "outputs": [],
   "source": [
    "# Better to drop this column as imputing 17% of missing data would not be good for model building\n",
    "missing_data.drop(\"dosage\",axis=1,inplace=True)"
   ]
  },
  {
   "cell_type": "markdown",
   "id": "d532f361",
   "metadata": {},
   "source": [
    "### Line Item Insurance (usd)"
   ]
  },
  {
   "cell_type": "code",
   "execution_count": 25,
   "id": "1923686e",
   "metadata": {},
   "outputs": [
    {
     "data": {
      "text/plain": [
       "0.00    54\n",
       "0.02    37\n",
       "0.07    33\n",
       "0.06    30\n",
       "0.05    30\n",
       "Name: line_item_insurance_(usd), dtype: int64"
      ]
     },
     "execution_count": 25,
     "metadata": {},
     "output_type": "execute_result"
    }
   ],
   "source": [
    "missing_data[\"line_item_insurance_(usd)\"].value_counts().head()"
   ]
  },
  {
   "cell_type": "code",
   "execution_count": 26,
   "id": "eb8e966f",
   "metadata": {},
   "outputs": [],
   "source": [
    "missing_data[\"line_item_insurance_(usd)\"].replace(to_replace = np.NaN, value = missing_data[\"line_item_insurance_(usd)\"].median(),inplace=True)"
   ]
  },
  {
   "cell_type": "code",
   "execution_count": 27,
   "id": "947855ca",
   "metadata": {},
   "outputs": [
    {
     "data": {
      "text/plain": [
       "shipment_mode                0\n",
       "line_item_insurance_(usd)    0\n",
       "dtype: int64"
      ]
     },
     "execution_count": 27,
     "metadata": {},
     "output_type": "execute_result"
    }
   ],
   "source": [
    "missing_data.isnull().sum()"
   ]
  },
  {
   "cell_type": "code",
   "execution_count": 28,
   "id": "45be4c77",
   "metadata": {},
   "outputs": [],
   "source": [
    "# Dropping the original columns\n",
    "df.drop([\"shipment_mode\",\"line_item_insurance_(usd)\",\"dosage\"],axis=1,inplace=True)"
   ]
  },
  {
   "cell_type": "code",
   "execution_count": 29,
   "id": "0bcb7196",
   "metadata": {},
   "outputs": [],
   "source": [
    "# Concatenating the imputed columns\n",
    "df=pd.concat([df,missing_data],axis=1)"
   ]
  },
  {
   "cell_type": "code",
   "execution_count": 30,
   "id": "7e607ee1",
   "metadata": {},
   "outputs": [],
   "source": [
    "# Dropping some columns which are not helpful in Model Building\n",
    "df.drop([\"id\",\"project_code\",\"pq_#\"],axis=1,inplace=True)"
   ]
  },
  {
   "cell_type": "code",
   "execution_count": 31,
   "id": "14c51eda",
   "metadata": {},
   "outputs": [
    {
     "name": "stdout",
     "output_type": "stream",
     "text": [
      "<class 'pandas.core.frame.DataFrame'>\n",
      "RangeIndex: 10324 entries, 0 to 10323\n",
      "Data columns (total 29 columns):\n",
      " #   Column                        Non-Null Count  Dtype  \n",
      "---  ------                        --------------  -----  \n",
      " 0   po_/_so_#                     10324 non-null  object \n",
      " 1   asn/dn_#                      10324 non-null  object \n",
      " 2   country                       10324 non-null  object \n",
      " 3   managed_by                    10324 non-null  object \n",
      " 4   fulfill_via                   10324 non-null  object \n",
      " 5   vendor_inco_term              10324 non-null  object \n",
      " 6   pq_first_sent_to_client_date  10324 non-null  object \n",
      " 7   po_sent_to_vendor_date        10324 non-null  object \n",
      " 8   scheduled_delivery_date       10324 non-null  object \n",
      " 9   delivered_to_client_date      10324 non-null  object \n",
      " 10  delivery_recorded_date        10324 non-null  object \n",
      " 11  product_group                 10324 non-null  object \n",
      " 12  sub_classification            10324 non-null  object \n",
      " 13  vendor                        10324 non-null  object \n",
      " 14  item_description              10324 non-null  object \n",
      " 15  molecule/test_type            10324 non-null  object \n",
      " 16  brand                         10324 non-null  object \n",
      " 17  dosage_form                   10324 non-null  object \n",
      " 18  unit_of_measure_(per_pack)    10324 non-null  int64  \n",
      " 19  line_item_quantity            10324 non-null  int64  \n",
      " 20  line_item_value               10324 non-null  float64\n",
      " 21  pack_price                    10324 non-null  float64\n",
      " 22  unit_price                    10324 non-null  float64\n",
      " 23  manufacturing_site            10324 non-null  object \n",
      " 24  first_line_designation        10324 non-null  object \n",
      " 25  weight_(kilograms)            10324 non-null  object \n",
      " 26  freight_cost_(usd)            10324 non-null  object \n",
      " 27  shipment_mode                 10324 non-null  object \n",
      " 28  line_item_insurance_(usd)     10324 non-null  float64\n",
      "dtypes: float64(4), int64(2), object(23)\n",
      "memory usage: 2.3+ MB\n"
     ]
    }
   ],
   "source": [
    "df.info()"
   ]
  },
  {
   "cell_type": "code",
   "execution_count": 32,
   "id": "300efdf2",
   "metadata": {},
   "outputs": [],
   "source": [
    "# Separating Numeric and object datatype data and storing them separately for analysis\n",
    "obj_cols=[x for x in df.columns if df[x].dtypes==\"O\"]\n",
    "\n",
    "num_cols=[y for y in df.columns if df[y].dtypes==\"int64\" or df[y].dtypes==\"float64\"]"
   ]
  },
  {
   "cell_type": "code",
   "execution_count": 33,
   "id": "82797d67",
   "metadata": {},
   "outputs": [],
   "source": [
    "numcols=df[num_cols]\n",
    "\n",
    "objcols=df[obj_cols]"
   ]
  },
  {
   "cell_type": "code",
   "execution_count": 34,
   "id": "aa89686c",
   "metadata": {},
   "outputs": [
    {
     "name": "stdout",
     "output_type": "stream",
     "text": [
      "po_/_so_# = 6233\n",
      "asn/dn_# = 7030\n",
      "country = 43\n",
      "managed_by = 4\n",
      "fulfill_via = 2\n",
      "vendor_inco_term = 8\n",
      "pq_first_sent_to_client_date = 765\n",
      "po_sent_to_vendor_date = 897\n",
      "scheduled_delivery_date = 2006\n",
      "delivered_to_client_date = 2093\n",
      "delivery_recorded_date = 2042\n",
      "product_group = 5\n",
      "sub_classification = 6\n",
      "vendor = 73\n",
      "item_description = 184\n",
      "molecule/test_type = 86\n",
      "brand = 48\n",
      "dosage_form = 17\n",
      "manufacturing_site = 88\n",
      "first_line_designation = 2\n",
      "weight_(kilograms) = 4688\n",
      "freight_cost_(usd) = 6733\n",
      "shipment_mode = 4\n"
     ]
    }
   ],
   "source": [
    "# Unique count in Object data\n",
    "for cols in objcols.columns[0:]:\n",
    "    print(cols,\"=\",len(objcols[cols].unique()))"
   ]
  },
  {
   "cell_type": "markdown",
   "id": "2c126d2a",
   "metadata": {},
   "source": [
    "### PO/SO"
   ]
  },
  {
   "cell_type": "code",
   "execution_count": 35,
   "id": "8e011d53",
   "metadata": {},
   "outputs": [
    {
     "name": "stdout",
     "output_type": "stream",
     "text": [
      "SCMS-199289    67\n",
      "SCMS-199283    63\n",
      "SCMS-183950    55\n",
      "SCMS-215370    38\n",
      "SCMS-259075    38\n",
      "Name: po_/_so_#, dtype: int64 \n",
      "\n",
      "SO-36423      1\n",
      "SCMS-12680    1\n",
      "SCMS-69260    1\n",
      "SCMS-77270    1\n",
      "SO-34250      1\n",
      "Name: po_/_so_#, dtype: int64\n"
     ]
    }
   ],
   "source": [
    "print(df[\"po_/_so_#\"].value_counts().head(),'\\n')\n",
    "print(df[\"po_/_so_#\"].value_counts().tail())"
   ]
  },
  {
   "cell_type": "code",
   "execution_count": 36,
   "id": "61c13ef7",
   "metadata": {},
   "outputs": [
    {
     "data": {
      "text/plain": [
       "SCMS-199289    67\n",
       "SCMS-199283    63\n",
       "SCMS-183950    55\n",
       "SCMS-215370    38\n",
       "SCMS-259075    38\n",
       "Name: po_/_so_#, dtype: int64"
      ]
     },
     "execution_count": 36,
     "metadata": {},
     "output_type": "execute_result"
    }
   ],
   "source": [
    "df[\"po_/_so_#\"].value_counts().head()"
   ]
  },
  {
   "cell_type": "markdown",
   "id": "244d1f84",
   "metadata": {},
   "source": [
    "#### The function reorder takes a string as input and returns a new string after performing some operations on it.\n",
    "\n",
    "* Here's how the function works:\n",
    "\n",
    "* The input string is passed to the function as the argument df.\n",
    "* The string is split into a list of substrings using the split() method. The delimiter used to split the string is the hyphen (-). The resulting list is stored in the variable df_split.\n",
    "* The first element of the list (index 0) is extracted and stored in the variable df_return.\n",
    "* Finally, the function returns the value stored in df_return.For example, if you call reorder with the input string \"SO-4568\", the function will split the string into a list [\"SO\", \"4568\"] and return the string \"SO\"."
   ]
  },
  {
   "cell_type": "code",
   "execution_count": 37,
   "id": "c78804f7",
   "metadata": {},
   "outputs": [],
   "source": [
    "def reorder(df):\n",
    "    df_split=df.split(\"-\")\n",
    "    df_return=df_split[0]\n",
    "    return df_return"
   ]
  },
  {
   "cell_type": "code",
   "execution_count": 38,
   "id": "74249451",
   "metadata": {},
   "outputs": [
    {
     "data": {
      "text/plain": [
       "SO      5404\n",
       "SCMS    4919\n",
       "DSCM       1\n",
       "Name: po_/_so_#, dtype: int64"
      ]
     },
     "execution_count": 38,
     "metadata": {},
     "output_type": "execute_result"
    }
   ],
   "source": [
    "df[\"po_/_so_#\"]=df[\"po_/_so_#\"].apply(reorder)\n",
    "df[\"po_/_so_#\"].value_counts()"
   ]
  },
  {
   "cell_type": "code",
   "execution_count": 39,
   "id": "5e8a9875",
   "metadata": {},
   "outputs": [],
   "source": [
    "df[\"po_/_so_#\"]=df[\"po_/_so_#\"].replace('DSCM',\"SO\")"
   ]
  },
  {
   "cell_type": "code",
   "execution_count": 40,
   "id": "416f010b",
   "metadata": {},
   "outputs": [
    {
     "data": {
      "text/plain": [
       "SO      5405\n",
       "SCMS    4919\n",
       "Name: po_/_so_#, dtype: int64"
      ]
     },
     "execution_count": 40,
     "metadata": {},
     "output_type": "execute_result"
    }
   ],
   "source": [
    "df[\"po_/_so_#\"].value_counts()"
   ]
  },
  {
   "cell_type": "markdown",
   "id": "82d71528",
   "metadata": {},
   "source": [
    "### DN / ASN"
   ]
  },
  {
   "cell_type": "code",
   "execution_count": 41,
   "id": "199927ec",
   "metadata": {},
   "outputs": [
    {
     "data": {
      "text/plain": [
       "ASN-19166    54\n",
       "ASN-24415    38\n",
       "ASN-23875    26\n",
       "ASN-32138    19\n",
       "DN-304       17\n",
       "Name: asn/dn_#, dtype: int64"
      ]
     },
     "execution_count": 41,
     "metadata": {},
     "output_type": "execute_result"
    }
   ],
   "source": [
    "df[\"asn/dn_#\"].value_counts().head()"
   ]
  },
  {
   "cell_type": "code",
   "execution_count": 42,
   "id": "8a0d9221",
   "metadata": {},
   "outputs": [
    {
     "data": {
      "text/plain": [
       "ASN-7957     1\n",
       "ASN-29373    1\n",
       "DN-228       1\n",
       "DN-606       1\n",
       "ASN-11433    1\n",
       "Name: asn/dn_#, dtype: int64"
      ]
     },
     "execution_count": 42,
     "metadata": {},
     "output_type": "execute_result"
    }
   ],
   "source": [
    "df[\"asn/dn_#\"].value_counts().tail()"
   ]
  },
  {
   "cell_type": "code",
   "execution_count": 43,
   "id": "7f0f8347",
   "metadata": {},
   "outputs": [
    {
     "data": {
      "text/plain": [
       "DN     5404\n",
       "ASN    4920\n",
       "Name: asn/dn_#, dtype: int64"
      ]
     },
     "execution_count": 43,
     "metadata": {},
     "output_type": "execute_result"
    }
   ],
   "source": [
    "# Applying the Reorder function\n",
    "df[\"asn/dn_#\"]=df[\"asn/dn_#\"].apply(reorder)\n",
    "df[\"asn/dn_#\"].value_counts()"
   ]
  },
  {
   "cell_type": "markdown",
   "id": "abf1166e",
   "metadata": {},
   "source": [
    "* DN / ASN = Shipment number: Advanced Shipment Note (ASN) for Direct Drop deliveries, or Delivery Note (DN) for from RDC deliveries"
   ]
  },
  {
   "cell_type": "markdown",
   "id": "7f132f6b",
   "metadata": {},
   "source": [
    "* DN(Delivery Note) is most used or preferred for Shipment Number"
   ]
  },
  {
   "cell_type": "markdown",
   "id": "093f720f",
   "metadata": {},
   "source": [
    "### Country"
   ]
  },
  {
   "cell_type": "code",
   "execution_count": 44,
   "id": "69a7286a",
   "metadata": {},
   "outputs": [
    {
     "name": "stdout",
     "output_type": "stream",
     "text": [
      "South Africa     1406\n",
      "Nigeria          1194\n",
      "Côte d'Ivoire    1083\n",
      "Uganda            779\n",
      "Vietnam           688\n",
      "Name: country, dtype: int64 \n",
      "\n",
      "Burkina Faso    2\n",
      "Kazakhstan      2\n",
      "Kyrgyzstan      2\n",
      "Belize          1\n",
      "Guinea          1\n",
      "Name: country, dtype: int64\n"
     ]
    }
   ],
   "source": [
    "print(df[\"country\"].value_counts().head(),'\\n')\n",
    "print(df[\"country\"].value_counts().tail())"
   ]
  },
  {
   "cell_type": "code",
   "execution_count": 45,
   "id": "7e057a09",
   "metadata": {},
   "outputs": [
    {
     "data": {
      "text/plain": [
       "Text(0.5, 0, 'Country Name')"
      ]
     },
     "execution_count": 45,
     "metadata": {},
     "output_type": "execute_result"
    },
    {
     "data": {
      "image/png": "[encoded data removed]",
      "text/plain": [
       "<Figure size 1584x432 with 1 Axes>"
      ]
     },
     "metadata": {
      "needs_background": "light"
     },
     "output_type": "display_data"
    }
   ],
   "source": [
    "Count = df[\"country\"].value_counts().nlargest(10)\n",
    "sns.set_context(\"talk\",font_scale=1)\n",
    "plt.figure(figsize=(22,6))\n",
    "sns.countplot(x=df['country'],order = Count.index)\n",
    "plt.title('Top 10 Countries Wise Count \\n')\n",
    "plt.ylabel('Total Count')\n",
    "plt.xlabel('Country Name')"
   ]
  },
  {
   "cell_type": "markdown",
   "id": "671f3aa8",
   "metadata": {},
   "source": [
    "* South Africa is the most preferred Destination country for the shipments followed by Nigeria , Côte d'Ivoire while Guinea and Belize being the least."
   ]
  },
  {
   "cell_type": "markdown",
   "id": "e9320de4",
   "metadata": {},
   "source": [
    "### Managed_by"
   ]
  },
  {
   "cell_type": "code",
   "execution_count": 46,
   "id": "563d2207",
   "metadata": {},
   "outputs": [
    {
     "data": {
      "text/plain": [
       "PMO - US                     10265\n",
       "South Africa Field Office       57\n",
       "Haiti Field Office               1\n",
       "Ethiopia Field Office            1\n",
       "Name: managed_by, dtype: int64"
      ]
     },
     "execution_count": 46,
     "metadata": {},
     "output_type": "execute_result"
    }
   ],
   "source": [
    "df[\"managed_by\"].value_counts()"
   ]
  },
  {
   "cell_type": "code",
   "execution_count": 47,
   "id": "b243d395",
   "metadata": {},
   "outputs": [
    {
     "data": {
      "text/plain": [
       "PMO - US                     99.43\n",
       "South Africa Field Office     0.55\n",
       "Haiti Field Office            0.01\n",
       "Ethiopia Field Office         0.01\n",
       "Name: managed_by, dtype: float64"
      ]
     },
     "execution_count": 47,
     "metadata": {},
     "output_type": "execute_result"
    }
   ],
   "source": [
    "np.round(df[\"managed_by\"].value_counts(normalize=True)*100,2)"
   ]
  },
  {
   "cell_type": "markdown",
   "id": "8237ba53",
   "metadata": {},
   "source": [
    "* Managed By = SCMS managing office: either the Program Management Office (PMO) in the U.S. or the relevant SCMS field office\n",
    "* Almost all the Management office are located in US hence it does not provide any useful information so,we can drop it from our variables."
   ]
  },
  {
   "cell_type": "code",
   "execution_count": 48,
   "id": "2f528928",
   "metadata": {},
   "outputs": [],
   "source": [
    "df.drop(\"managed_by\",axis=1,inplace=True)"
   ]
  },
  {
   "cell_type": "markdown",
   "id": "7d5489d7",
   "metadata": {},
   "source": [
    "### Fulfill_via"
   ]
  },
  {
   "cell_type": "code",
   "execution_count": 49,
   "id": "23d3053a",
   "metadata": {},
   "outputs": [
    {
     "data": {
      "text/plain": [
       "From RDC       5404\n",
       "Direct Drop    4920\n",
       "Name: fulfill_via, dtype: int64"
      ]
     },
     "execution_count": 49,
     "metadata": {},
     "output_type": "execute_result"
    }
   ],
   "source": [
    "df[\"fulfill_via\"].value_counts()"
   ]
  },
  {
   "cell_type": "code",
   "execution_count": 50,
   "id": "0741ed2c",
   "metadata": {},
   "outputs": [
    {
     "data": {
      "image/png": "[encoded data removed]",
      "text/plain": [
       "<Figure size 1080x360 with 2 Axes>"
      ]
     },
     "metadata": {
      "needs_background": "light"
     },
     "output_type": "display_data"
    }
   ],
   "source": [
    "plot(df[\"fulfill_via\"],\"fulfil_via\")"
   ]
  },
  {
   "cell_type": "markdown",
   "id": "1ce25054",
   "metadata": {},
   "source": [
    "### Vendor_inco_term"
   ]
  },
  {
   "cell_type": "code",
   "execution_count": 51,
   "id": "be17e483",
   "metadata": {},
   "outputs": [
    {
     "data": {
      "text/plain": [
       "N/A - From RDC    5404\n",
       "EXW               2778\n",
       "DDP               1443\n",
       "FCA                397\n",
       "CIP                275\n",
       "DDU                 15\n",
       "DAP                  9\n",
       "CIF                  3\n",
       "Name: vendor_inco_term, dtype: int64"
      ]
     },
     "execution_count": 51,
     "metadata": {},
     "output_type": "execute_result"
    }
   ],
   "source": [
    "df[\"vendor_inco_term\"].value_counts()"
   ]
  },
  {
   "cell_type": "code",
   "execution_count": 52,
   "id": "5953bd55",
   "metadata": {},
   "outputs": [
    {
     "data": {
      "text/plain": [
       "N/A - From RDC    0.52\n",
       "EXW               0.27\n",
       "DDP               0.14\n",
       "FCA               0.04\n",
       "CIP               0.03\n",
       "DDU               0.00\n",
       "DAP               0.00\n",
       "CIF               0.00\n",
       "Name: vendor_inco_term, dtype: float64"
      ]
     },
     "execution_count": 52,
     "metadata": {},
     "output_type": "execute_result"
    }
   ],
   "source": [
    "np.round(df[\"vendor_inco_term\"].value_counts(normalize=True),2)"
   ]
  },
  {
   "cell_type": "markdown",
   "id": "b51660ec",
   "metadata": {},
   "source": [
    "### PQ_first_sent_to_client_date"
   ]
  },
  {
   "cell_type": "code",
   "execution_count": 53,
   "id": "5dbe7149",
   "metadata": {},
   "outputs": [
    {
     "name": "stdout",
     "output_type": "stream",
     "text": [
      "Pre-PQ Process       2476\n",
      "9/11/14               205\n",
      "Date Not Captured     205\n",
      "7/11/13               173\n",
      "4/30/14               123\n",
      "Name: pq_first_sent_to_client_date, dtype: int64 \n",
      "\n",
      "12/10/10    1\n",
      "12/3/13     1\n",
      "5/31/13     1\n",
      "6/15/12     1\n",
      "7/2/13      1\n",
      "Name: pq_first_sent_to_client_date, dtype: int64\n"
     ]
    }
   ],
   "source": [
    "print(df[\"pq_first_sent_to_client_date\"].value_counts().head(),'\\n')\n",
    "print(df[\"pq_first_sent_to_client_date\"].value_counts().tail())"
   ]
  },
  {
   "cell_type": "code",
   "execution_count": 54,
   "id": "d351d5f5",
   "metadata": {},
   "outputs": [
    {
     "data": {
      "text/plain": [
       "765"
      ]
     },
     "execution_count": 54,
     "metadata": {},
     "output_type": "execute_result"
    }
   ],
   "source": [
    "df[\"pq_first_sent_to_client_date\"].nunique()"
   ]
  },
  {
   "cell_type": "code",
   "execution_count": 55,
   "id": "792232c0",
   "metadata": {},
   "outputs": [
    {
     "data": {
      "text/plain": [
       "'1/10/12'"
      ]
     },
     "execution_count": 55,
     "metadata": {},
     "output_type": "execute_result"
    }
   ],
   "source": [
    "df[\"pq_first_sent_to_client_date\"].min()"
   ]
  },
  {
   "cell_type": "code",
   "execution_count": 56,
   "id": "1976a046",
   "metadata": {},
   "outputs": [
    {
     "data": {
      "text/plain": [
       "'Pre-PQ Process'"
      ]
     },
     "execution_count": 56,
     "metadata": {},
     "output_type": "execute_result"
    }
   ],
   "source": [
    "df[\"pq_first_sent_to_client_date\"].max()"
   ]
  },
  {
   "cell_type": "code",
   "execution_count": 57,
   "id": "a5de957b",
   "metadata": {},
   "outputs": [
    {
     "data": {
      "text/plain": [
       "count              10324\n",
       "unique               765\n",
       "top       Pre-PQ Process\n",
       "freq                2476\n",
       "Name: pq_first_sent_to_client_date, dtype: object"
      ]
     },
     "execution_count": 57,
     "metadata": {},
     "output_type": "execute_result"
    }
   ],
   "source": [
    "df[\"pq_first_sent_to_client_date\"].describe(include=all)"
   ]
  },
  {
   "cell_type": "code",
   "execution_count": 58,
   "id": "929de117",
   "metadata": {},
   "outputs": [
    {
     "data": {
      "text/plain": [
       "count              10324\n",
       "unique               765\n",
       "top       Pre-PQ Process\n",
       "freq                2476\n",
       "mean                 NaN\n",
       "std                  NaN\n",
       "min                  NaN\n",
       "25%                  NaN\n",
       "50%                  NaN\n",
       "75%                  NaN\n",
       "max                  NaN\n",
       "Name: pq_first_sent_to_client_date, dtype: object"
      ]
     },
     "execution_count": 58,
     "metadata": {},
     "output_type": "execute_result"
    }
   ],
   "source": [
    "df.describe(include='all')[\"pq_first_sent_to_client_date\"]"
   ]
  },
  {
   "cell_type": "markdown",
   "id": "d5e73bdb",
   "metadata": {},
   "source": [
    "#### Function called client_dates\n",
    "* This code is a function called client_dates that takes in a date as a string. The function has three branches. The first branch checks if the input date is equal to the string \"Pre-PQ Process\", and if so, it returns a specific pre-defined date in the format \"%d/%m/%Y\" using the pd.to_datetime function from the pandas library.\n",
    "* The second branch checks if the input date is equal to the string \"Date Not Captured\", and if so, it returns the string \"Date Not Captured\" without modifying it.\n",
    "* The third branch is executed if the input date is not equal to either of the previous two strings. This branch checks if the length of the input date string is less than 9 characters, and if so, it converts the date to the format \"%m/%d/%y\" using the pd.to_datetime function and returns the date.\n",
    "* If the length of the input date string is not less than 9 characters, it replaces all occurrences of the character \"-\" with the character \"/\" in the input date string and then converts the date to the format \"%d/%m/%Y\" using the pd.to_datetime function and returns the date."
   ]
  },
  {
   "cell_type": "code",
   "execution_count": 59,
   "id": "d989aea8",
   "metadata": {},
   "outputs": [
    {
     "data": {
      "text/plain": [
       "8"
      ]
     },
     "execution_count": 59,
     "metadata": {},
     "output_type": "execute_result"
    }
   ],
   "source": [
    "# Checking the length of Date and hence using len(date)<9\n",
    "a=len('10/21/13')\n",
    "a"
   ]
  },
  {
   "cell_type": "code",
   "execution_count": 60,
   "id": "cbb325e7",
   "metadata": {},
   "outputs": [],
   "source": [
    "def client_dates(date):\n",
    "    if date==\"Pre-PQ Process\":\n",
    "        return pd.to_datetime('01/06/2009',format=\"%d/%m/%Y\")\n",
    "    elif date==\"Date Not Captured\":\n",
    "        return \"Date Not Captured\"\n",
    "    else:\n",
    "        if len(date)<9:\n",
    "            date=pd.to_datetime(date,format=\"%m/%d/%y\")\n",
    "            return date\n",
    "        else:\n",
    "            date=date.replace(\"-\",\"/\")\n",
    "            date=pd.to_datetime(date,format=\"%d/%m/%Y\")\n",
    "            return date"
   ]
  },
  {
   "cell_type": "code",
   "execution_count": 61,
   "id": "1c5a8a11",
   "metadata": {},
   "outputs": [],
   "source": [
    "df[\"pq_first_sent_to_client_date\"]=df[\"pq_first_sent_to_client_date\"].apply(client_dates)"
   ]
  },
  {
   "cell_type": "code",
   "execution_count": 62,
   "id": "1e57fcee",
   "metadata": {},
   "outputs": [
    {
     "data": {
      "text/plain": [
       "0    2009-06-01 00:00:00\n",
       "1    2009-06-01 00:00:00\n",
       "2    2009-06-01 00:00:00\n",
       "3    2009-06-01 00:00:00\n",
       "4    2009-06-01 00:00:00\n",
       "Name: pq_first_sent_to_client_date, dtype: object"
      ]
     },
     "execution_count": 62,
     "metadata": {},
     "output_type": "execute_result"
    }
   ],
   "source": [
    "df[\"pq_first_sent_to_client_date\"].head(5)"
   ]
  },
  {
   "cell_type": "code",
   "execution_count": 63,
   "id": "857384af",
   "metadata": {},
   "outputs": [
    {
     "name": "stdout",
     "output_type": "stream",
     "text": [
      "2009-06-01 00:00:00    2476\n",
      "Date Not Captured       205\n",
      "2014-09-11 00:00:00     205\n",
      "2013-07-11 00:00:00     173\n",
      "2014-04-30 00:00:00     123\n",
      "Name: pq_first_sent_to_client_date, dtype: int64 \n",
      "\n",
      "2014-07-18    1\n",
      "2015-04-16    1\n",
      "2010-04-16    1\n",
      "2015-01-12    1\n",
      "2010-03-24    1\n",
      "Name: pq_first_sent_to_client_date, dtype: int64\n"
     ]
    }
   ],
   "source": [
    "print(df[\"pq_first_sent_to_client_date\"].value_counts().head(),'\\n')\n",
    "print(df[\"pq_first_sent_to_client_date\"].value_counts().tail())"
   ]
  },
  {
   "cell_type": "code",
   "execution_count": 64,
   "id": "010eec3d",
   "metadata": {},
   "outputs": [],
   "source": [
    "df.drop(df.index[df[\"pq_first_sent_to_client_date\"]==\"Date Not Captured\"],inplace=True)"
   ]
  },
  {
   "cell_type": "code",
   "execution_count": 65,
   "id": "7ee7b20b",
   "metadata": {},
   "outputs": [
    {
     "name": "stdout",
     "output_type": "stream",
     "text": [
      "2009-06-01    2476\n",
      "2014-09-11     205\n",
      "2013-07-11     173\n",
      "2014-04-30     123\n",
      "2009-11-06      98\n",
      "Name: pq_first_sent_to_client_date, dtype: int64 \n",
      "\n",
      "2010-01-25    1\n",
      "2012-02-08    1\n",
      "2010-09-21    1\n",
      "2011-03-22    1\n",
      "2014-12-19    1\n",
      "Name: pq_first_sent_to_client_date, dtype: int64\n"
     ]
    }
   ],
   "source": [
    "print(df[\"pq_first_sent_to_client_date\"].value_counts().head(),'\\n')\n",
    "print(df[\"pq_first_sent_to_client_date\"].value_counts().tail())"
   ]
  },
  {
   "cell_type": "markdown",
   "id": "040aa83f",
   "metadata": {},
   "source": [
    "### PO_sent_to_vendor_date"
   ]
  },
  {
   "cell_type": "code",
   "execution_count": 66,
   "id": "bfd17966",
   "metadata": {},
   "outputs": [
    {
     "name": "stdout",
     "output_type": "stream",
     "text": [
      "N/A - From RDC       5199\n",
      "Date Not Captured     328\n",
      "8/27/14                80\n",
      "3/19/10                78\n",
      "8/29/14                76\n",
      "Name: po_sent_to_vendor_date, dtype: int64 \n",
      "\n",
      "9/12/14     1\n",
      "1/20/15     1\n",
      "10/21/11    1\n",
      "5/13/13     1\n",
      "12/3/13     1\n",
      "Name: po_sent_to_vendor_date, dtype: int64\n"
     ]
    }
   ],
   "source": [
    "print(df[\"po_sent_to_vendor_date\"].value_counts().head(),'\\n')\n",
    "print(df[\"po_sent_to_vendor_date\"].value_counts().tail())"
   ]
  },
  {
   "cell_type": "code",
   "execution_count": 67,
   "id": "84801337",
   "metadata": {},
   "outputs": [
    {
     "data": {
      "text/plain": [
       "N/A - From RDC       51.378595\n",
       "Date Not Captured     3.241427\n",
       "8/27/14               0.790592\n",
       "3/19/10               0.770827\n",
       "8/29/14               0.751062\n",
       "10/9/14               0.701650\n",
       "Name: po_sent_to_vendor_date, dtype: float64"
      ]
     },
     "execution_count": 67,
     "metadata": {},
     "output_type": "execute_result"
    }
   ],
   "source": [
    "df[\"po_sent_to_vendor_date\"].value_counts(normalize=True).head(6)*100"
   ]
  },
  {
   "cell_type": "markdown",
   "id": "df5eb579",
   "metadata": {},
   "source": [
    "* po_sent_to_vendor_date = Date the PO is first sent to the vendor\n",
    "* Dropping column as it's more than 50% infomation is captured by from RDC which is categorical and unknown to us."
   ]
  },
  {
   "cell_type": "code",
   "execution_count": 68,
   "id": "d52395b5",
   "metadata": {},
   "outputs": [],
   "source": [
    "df.drop('po_sent_to_vendor_date', axis= 1,inplace=True)"
   ]
  },
  {
   "cell_type": "markdown",
   "id": "5bd4007c",
   "metadata": {},
   "source": [
    "### Scheduled_delivery_date"
   ]
  },
  {
   "cell_type": "code",
   "execution_count": 69,
   "id": "58579e88",
   "metadata": {},
   "outputs": [
    {
     "data": {
      "text/plain": [
       "29-Aug-14    97\n",
       "16-Mar-12    83\n",
       "27-Aug-14    63\n",
       "31-May-10    62\n",
       "31-Jan-14    60\n",
       "Name: scheduled_delivery_date, dtype: int64"
      ]
     },
     "execution_count": 69,
     "metadata": {},
     "output_type": "execute_result"
    }
   ],
   "source": [
    "df[\"scheduled_delivery_date\"].value_counts().head()"
   ]
  },
  {
   "cell_type": "code",
   "execution_count": 70,
   "id": "100c5b1e",
   "metadata": {},
   "outputs": [
    {
     "data": {
      "text/plain": [
       "6-Feb-07     1\n",
       "16-Apr-07    1\n",
       "9-May-11     1\n",
       "8-Feb-08     1\n",
       "21-Jan-15    1\n",
       "Name: scheduled_delivery_date, dtype: int64"
      ]
     },
     "execution_count": 70,
     "metadata": {},
     "output_type": "execute_result"
    }
   ],
   "source": [
    "df[\"scheduled_delivery_date\"].value_counts().tail()"
   ]
  },
  {
   "cell_type": "markdown",
   "id": "82cc4f40",
   "metadata": {},
   "source": [
    "This function transforms a string representation of a date in the format \"DD-MMM-YY\" (e.g. \"16-Jan-22\") into a pandas datetime object. The function does this in three steps:\n",
    "\n",
    "* The first line of the function uses the .replace() method to replace all hyphens (-) in the input string data with forward slashes (/). This is done because the pd.to_datetime() function expects the input string to be in the format \"DD/MMM/YY\", where \"DD\" is the day of the month, \"MMM\" is the three-letter abbreviation for the month, and \"YY\" is the two-digit year.\n",
    "\n",
    "* The second line of the function uses the pd.to_datetime() function to convert the modified string into a pandas datetime object. The format parameter is set to \"%d/%b/%y\", which specifies the format of the input string. The %d directive represents the day of the month (as a zero-padded two-digit number), the %b directive represents the three-letter abbreviation for the month, and the %y directive represents the two-digit year.\n",
    "\n",
    "* The third and final line of the function returns the resulting pandas datetime object.\n"
   ]
  },
  {
   "cell_type": "code",
   "execution_count": 71,
   "id": "0f436ccd",
   "metadata": {},
   "outputs": [],
   "source": [
    "def transform_date(data):\n",
    "    data=data.replace(\"-\",\"/\")\n",
    "    data=pd.to_datetime(data,format=\"%d/%b/%y\")\n",
    "    return data"
   ]
  },
  {
   "cell_type": "code",
   "execution_count": 72,
   "id": "a2c7c35b",
   "metadata": {},
   "outputs": [
    {
     "data": {
      "text/plain": [
       "2014-08-29    97\n",
       "2012-03-16    83\n",
       "2014-08-27    63\n",
       "2010-05-31    62\n",
       "2014-01-31    60\n",
       "Name: scheduled_delivery_date, dtype: int64"
      ]
     },
     "execution_count": 72,
     "metadata": {},
     "output_type": "execute_result"
    }
   ],
   "source": [
    "df[\"scheduled_delivery_date\"]=df[\"scheduled_delivery_date\"].apply(transform_date)\n",
    "df[\"scheduled_delivery_date\"].value_counts().head()"
   ]
  },
  {
   "cell_type": "code",
   "execution_count": 73,
   "id": "cddc687c",
   "metadata": {},
   "outputs": [
    {
     "data": {
      "text/plain": [
       "29-Aug-14    74\n",
       "27-Aug-14    66\n",
       "28-Jun-10    60\n",
       "14-Feb-12    60\n",
       "16-Apr-13    59\n",
       "Name: delivered_to_client_date, dtype: int64"
      ]
     },
     "execution_count": 73,
     "metadata": {},
     "output_type": "execute_result"
    }
   ],
   "source": [
    "df[\"delivery_recorded_date\"]=df[\"delivery_recorded_date\"].apply(transform_date)\n",
    "df[\"delivered_to_client_date\"].value_counts().head()"
   ]
  },
  {
   "cell_type": "markdown",
   "id": "350f2b53",
   "metadata": {},
   "source": [
    "### Delivered_to_client_date"
   ]
  },
  {
   "cell_type": "code",
   "execution_count": 74,
   "id": "592bdfa6",
   "metadata": {},
   "outputs": [
    {
     "data": {
      "text/plain": [
       "2014-08-29    74\n",
       "2014-08-27    66\n",
       "2012-02-14    60\n",
       "2010-06-28    60\n",
       "2013-04-16    59\n",
       "Name: delivered_to_client_date, dtype: int64"
      ]
     },
     "execution_count": 74,
     "metadata": {},
     "output_type": "execute_result"
    }
   ],
   "source": [
    "df[\"delivered_to_client_date\"]=df[\"delivered_to_client_date\"].apply(transform_date)\n",
    "df[\"delivered_to_client_date\"].value_counts().head()"
   ]
  },
  {
   "cell_type": "markdown",
   "id": "4ae9a370",
   "metadata": {},
   "source": [
    "### Product Group"
   ]
  },
  {
   "cell_type": "code",
   "execution_count": 75,
   "id": "74456bf4",
   "metadata": {},
   "outputs": [
    {
     "data": {
      "text/plain": [
       "ARV     8345\n",
       "HRDT    1728\n",
       "ANTM      22\n",
       "ACT       16\n",
       "MRDT       8\n",
       "Name: product_group, dtype: int64"
      ]
     },
     "execution_count": 75,
     "metadata": {},
     "output_type": "execute_result"
    }
   ],
   "source": [
    "df[\"product_group\"].value_counts()"
   ]
  },
  {
   "cell_type": "code",
   "execution_count": 76,
   "id": "eeb7fa37",
   "metadata": {},
   "outputs": [
    {
     "data": {
      "text/plain": [
       "ARV     82.47\n",
       "HRDT    17.08\n",
       "ANTM     0.22\n",
       "ACT      0.16\n",
       "MRDT     0.08\n",
       "Name: product_group, dtype: float64"
      ]
     },
     "execution_count": 76,
     "metadata": {},
     "output_type": "execute_result"
    }
   ],
   "source": [
    "np.round(df[\"product_group\"].value_counts(normalize=True)*100,2)"
   ]
  },
  {
   "cell_type": "code",
   "execution_count": 77,
   "id": "0a532cf1",
   "metadata": {},
   "outputs": [
    {
     "data": {
      "image/png": "[encoded data removed]",
      "text/plain": [
       "<Figure size 1080x360 with 2 Axes>"
      ]
     },
     "metadata": {
      "needs_background": "light"
     },
     "output_type": "display_data"
    }
   ],
   "source": [
    "plot(df[\"product_group\"],\"product_group\")"
   ]
  },
  {
   "cell_type": "code",
   "execution_count": 78,
   "id": "c90ec852",
   "metadata": {},
   "outputs": [
    {
     "data": {
      "text/plain": [
       "Text(0.5, 1.0, 'bar chart for product group')"
      ]
     },
     "execution_count": 78,
     "metadata": {},
     "output_type": "execute_result"
    },
    {
     "data": {
      "image/png": "[encoded data removed]",
      "text/plain": [
       "<Figure size 1080x360 with 1 Axes>"
      ]
     },
     "metadata": {
      "needs_background": "light"
     },
     "output_type": "display_data"
    }
   ],
   "source": [
    "plt.figure(figsize=(15,5))\n",
    "df[\"product_group\"].value_counts().plot.bar()\n",
    "plt.title(\"bar chart for product group\")"
   ]
  },
  {
   "cell_type": "code",
   "execution_count": 79,
   "id": "759f95b4",
   "metadata": {},
   "outputs": [],
   "source": [
    "other_product=df[\"product_group\"].value_counts().to_dict()\n",
    "HRDT=[]\n",
    "for key,val in other_product.items():\n",
    "    if val<=2000:\n",
    "        HRDT.append(key) "
   ]
  },
  {
   "cell_type": "code",
   "execution_count": 80,
   "id": "1c914064",
   "metadata": {},
   "outputs": [],
   "source": [
    "df[\"product_group\"]=df[\"product_group\"].replace(HRDT,\"other\")"
   ]
  },
  {
   "cell_type": "code",
   "execution_count": 81,
   "id": "7c9872c1",
   "metadata": {},
   "outputs": [
    {
     "data": {
      "text/plain": [
       "ARV      8345\n",
       "other    1774\n",
       "Name: product_group, dtype: int64"
      ]
     },
     "execution_count": 81,
     "metadata": {},
     "output_type": "execute_result"
    }
   ],
   "source": [
    "df[\"product_group\"].value_counts()"
   ]
  },
  {
   "cell_type": "code",
   "execution_count": 82,
   "id": "4bb4bc5c",
   "metadata": {},
   "outputs": [
    {
     "data": {
      "text/plain": [
       "Text(0.5, 1.0, 'bar chart for product group')"
      ]
     },
     "execution_count": 82,
     "metadata": {},
     "output_type": "execute_result"
    },
    {
     "data": {
      "image/png": "[encoded data removed]",
      "text/plain": [
       "<Figure size 1080x360 with 1 Axes>"
      ]
     },
     "metadata": {
      "needs_background": "light"
     },
     "output_type": "display_data"
    }
   ],
   "source": [
    "plt.figure(figsize=(15,5))\n",
    "df[\"product_group\"].value_counts().plot.bar()\n",
    "plt.title(\"bar chart for product group\")"
   ]
  },
  {
   "cell_type": "markdown",
   "id": "0485410f",
   "metadata": {},
   "source": [
    "### Sub Classification"
   ]
  },
  {
   "cell_type": "code",
   "execution_count": 83,
   "id": "b54e6927",
   "metadata": {},
   "outputs": [
    {
     "data": {
      "text/plain": [
       "Adult                   6418\n",
       "Pediatric               1927\n",
       "HIV test                1567\n",
       "HIV test - Ancillary     161\n",
       "Malaria                   30\n",
       "ACT                       16\n",
       "Name: sub_classification, dtype: int64"
      ]
     },
     "execution_count": 83,
     "metadata": {},
     "output_type": "execute_result"
    }
   ],
   "source": [
    "df[\"sub_classification\"].value_counts()"
   ]
  },
  {
   "cell_type": "code",
   "execution_count": 84,
   "id": "248daf6f",
   "metadata": {},
   "outputs": [
    {
     "data": {
      "text/plain": [
       "Text(0.5, 1.0, 'bar chart for Sub Classification')"
      ]
     },
     "execution_count": 84,
     "metadata": {},
     "output_type": "execute_result"
    },
    {
     "data": {
      "image/png": "[encoded data removed]",
      "text/plain": [
       "<Figure size 1080x360 with 1 Axes>"
      ]
     },
     "metadata": {
      "needs_background": "light"
     },
     "output_type": "display_data"
    }
   ],
   "source": [
    "plt.figure(figsize=(15,5))\n",
    "df[\"sub_classification\"].value_counts().plot.bar()\n",
    "plt.title(\"bar chart for Sub Classification\")"
   ]
  },
  {
   "cell_type": "code",
   "execution_count": 85,
   "id": "7f982af5",
   "metadata": {},
   "outputs": [],
   "source": [
    "other_class=df[\"sub_classification\"].value_counts().to_dict()\n",
    "HIV_plus=[]\n",
    "for key,val in other_class.items():\n",
    "    if val<=1600:\n",
    "        HIV_plus.append(key) "
   ]
  },
  {
   "cell_type": "code",
   "execution_count": 86,
   "id": "f65ac34e",
   "metadata": {},
   "outputs": [],
   "source": [
    "df[\"sub_classification\"]=df[\"sub_classification\"].replace(HIV_plus,\"HIV+\")"
   ]
  },
  {
   "cell_type": "code",
   "execution_count": 87,
   "id": "cd8869fd",
   "metadata": {},
   "outputs": [
    {
     "data": {
      "text/plain": [
       "Adult        6418\n",
       "Pediatric    1927\n",
       "HIV+         1774\n",
       "Name: sub_classification, dtype: int64"
      ]
     },
     "execution_count": 87,
     "metadata": {},
     "output_type": "execute_result"
    }
   ],
   "source": [
    "df[\"sub_classification\"].value_counts()"
   ]
  },
  {
   "cell_type": "code",
   "execution_count": 88,
   "id": "8acc68d1",
   "metadata": {},
   "outputs": [
    {
     "data": {
      "text/plain": [
       "Text(0.5, 1.0, 'bar chart for Sub Classification')"
      ]
     },
     "execution_count": 88,
     "metadata": {},
     "output_type": "execute_result"
    },
    {
     "data": {
      "image/png": "[encoded data removed]",
      "text/plain": [
       "<Figure size 1080x360 with 1 Axes>"
      ]
     },
     "metadata": {
      "needs_background": "light"
     },
     "output_type": "display_data"
    }
   ],
   "source": [
    "plt.figure(figsize=(15,5))\n",
    "df[\"sub_classification\"].value_counts().plot.bar()\n",
    "plt.title(\"bar chart for Sub Classification\")"
   ]
  },
  {
   "cell_type": "markdown",
   "id": "bc54793f",
   "metadata": {},
   "source": [
    "### Vendor"
   ]
  },
  {
   "cell_type": "code",
   "execution_count": 89,
   "id": "33d56899",
   "metadata": {},
   "outputs": [
    {
     "data": {
      "text/plain": [
       "SCMS from RDC               5199\n",
       "Orgenics, Ltd                754\n",
       "S. BUYS WHOLESALER           715\n",
       "Aurobindo Pharma Limited     668\n",
       "Trinity Biotech, Plc         356\n",
       "Name: vendor, dtype: int64"
      ]
     },
     "execution_count": 89,
     "metadata": {},
     "output_type": "execute_result"
    }
   ],
   "source": [
    "df[\"vendor\"].value_counts().head()"
   ]
  },
  {
   "cell_type": "code",
   "execution_count": 90,
   "id": "cfae6a86",
   "metadata": {},
   "outputs": [
    {
     "data": {
      "text/plain": [
       "RAININ INSTRUMENT, LLC.              1\n",
       "ABBOTT LABORATORIES (PUERTO RICO)    1\n",
       "SETEMA LIMITED PLC                   1\n",
       "PLURIPHARM S.A.                      1\n",
       "SYSMEX AMERICA INC                   1\n",
       "Name: vendor, dtype: int64"
      ]
     },
     "execution_count": 90,
     "metadata": {},
     "output_type": "execute_result"
    }
   ],
   "source": [
    "df[\"vendor\"].value_counts().tail()"
   ]
  },
  {
   "cell_type": "code",
   "execution_count": 91,
   "id": "d49a19c7",
   "metadata": {},
   "outputs": [
    {
     "data": {
      "text/plain": [
       "SCMS from RDC               0.513786\n",
       "Orgenics, Ltd               0.074513\n",
       "S. BUYS WHOLESALER          0.070659\n",
       "Aurobindo Pharma Limited    0.066014\n",
       "Trinity Biotech, Plc        0.035181\n",
       "Name: vendor, dtype: float64"
      ]
     },
     "execution_count": 91,
     "metadata": {},
     "output_type": "execute_result"
    }
   ],
   "source": [
    "df[\"vendor\"].value_counts(normalize=True).head()"
   ]
  },
  {
   "cell_type": "code",
   "execution_count": 92,
   "id": "61490f56",
   "metadata": {},
   "outputs": [],
   "source": [
    "other_vendor=df[\"vendor\"].value_counts().to_dict()\n",
    "other_catv=[]\n",
    "for key,val in other_vendor.items():\n",
    "    if val<=5000:\n",
    "        other_catv.append(key)  "
   ]
  },
  {
   "cell_type": "code",
   "execution_count": 93,
   "id": "9573d7f4",
   "metadata": {},
   "outputs": [],
   "source": [
    "df[\"vendor\"]=df[\"vendor\"].replace(other_catv,\"other\")"
   ]
  },
  {
   "cell_type": "code",
   "execution_count": 94,
   "id": "1092b0ea",
   "metadata": {},
   "outputs": [
    {
     "data": {
      "text/plain": [
       "Text(0.5, 1.0, 'bar chart for vendor column')"
      ]
     },
     "execution_count": 94,
     "metadata": {},
     "output_type": "execute_result"
    },
    {
     "data": {
      "image/png": "[encoded data removed]",
      "text/plain": [
       "<Figure size 1080x360 with 1 Axes>"
      ]
     },
     "metadata": {
      "needs_background": "light"
     },
     "output_type": "display_data"
    }
   ],
   "source": [
    "plt.figure(figsize=(15,5))\n",
    "df[\"vendor\"].value_counts().plot.bar()\n",
    "plt.title(\"bar chart for vendor column\")"
   ]
  },
  {
   "cell_type": "code",
   "execution_count": 95,
   "id": "f710f5d2",
   "metadata": {},
   "outputs": [
    {
     "data": {
      "text/plain": [
       "SCMS from RDC    0.513786\n",
       "other            0.486214\n",
       "Name: vendor, dtype: float64"
      ]
     },
     "execution_count": 95,
     "metadata": {},
     "output_type": "execute_result"
    }
   ],
   "source": [
    "df[\"vendor\"].value_counts(normalize=True)"
   ]
  },
  {
   "cell_type": "markdown",
   "id": "02241821",
   "metadata": {},
   "source": [
    "### Item_description"
   ]
  },
  {
   "cell_type": "code",
   "execution_count": 96,
   "id": "7cc8e276",
   "metadata": {},
   "outputs": [
    {
     "data": {
      "text/plain": [
       "Efavirenz 600mg, tablets, 30 Tabs                                   733\n",
       "Nevirapine 200mg, tablets, 60 Tabs                                  605\n",
       "Lamivudine/Zidovudine 150/300mg, tablets, 60 Tabs                   580\n",
       "HIV 1/2, Determine Complete HIV Kit, 100 Tests                      577\n",
       "Lamivudine/Nevirapine/Zidovudine 150/200/300mg, tablets, 60 Tabs    554\n",
       "Name: item_description, dtype: int64"
      ]
     },
     "execution_count": 96,
     "metadata": {},
     "output_type": "execute_result"
    }
   ],
   "source": [
    "df[\"item_description\"].value_counts().head()"
   ]
  },
  {
   "cell_type": "code",
   "execution_count": 97,
   "id": "1e80f7e8",
   "metadata": {},
   "outputs": [
    {
     "data": {
      "text/plain": [
       "HIV 1/2, INSTI HIV Antibody Individual POC, 1 Test                               1\n",
       "Malaria Antigen P.f Kit, 30 x 1 Test                                             1\n",
       "Efavirenz 200mg, tablets, 30 Tabs                                                1\n",
       "Lamivudine/Zidovudine+Abacavir 150/300+300mg, tablets, co-blister, 60+60 Tabs    1\n",
       "HIV, Pepti-LAV 1|2 (HIV-1|2 Ab differenciation, Immuno-Blot)                     1\n",
       "Name: item_description, dtype: int64"
      ]
     },
     "execution_count": 97,
     "metadata": {},
     "output_type": "execute_result"
    }
   ],
   "source": [
    "df[\"item_description\"].value_counts().tail()"
   ]
  },
  {
   "cell_type": "code",
   "execution_count": 98,
   "id": "ed3eaf63",
   "metadata": {},
   "outputs": [],
   "source": [
    "df.drop(\"item_description\",axis=1,inplace=True)"
   ]
  },
  {
   "cell_type": "markdown",
   "id": "a7f55e49",
   "metadata": {},
   "source": [
    "### Molecule/test_type"
   ]
  },
  {
   "cell_type": "code",
   "execution_count": 99,
   "id": "61acde81",
   "metadata": {},
   "outputs": [
    {
     "data": {
      "text/plain": [
       "Efavirenz                           1099\n",
       "Nevirapine                           854\n",
       "Lamivudine/Nevirapine/Zidovudine     681\n",
       "Lamivudine/Zidovudine                672\n",
       "Lopinavir/Ritonavir                  629\n",
       "Name: molecule/test_type, dtype: int64"
      ]
     },
     "execution_count": 99,
     "metadata": {},
     "output_type": "execute_result"
    }
   ],
   "source": [
    "df[\"molecule/test_type\"].value_counts().head()"
   ]
  },
  {
   "cell_type": "code",
   "execution_count": 100,
   "id": "f38e92a7",
   "metadata": {},
   "outputs": [
    {
     "data": {
      "text/plain": [
       "Quinine (as sulfate)                         1\n",
       "Mefloquine (as hydrochloride)                1\n",
       "Malaria Antigen P.f Kit, 30 x 1 Test         1\n",
       "Primaquine base (as diphosphate)             1\n",
       "Malaria, Antigen P.f., HRP2 CareStart Kit    1\n",
       "Name: molecule/test_type, dtype: int64"
      ]
     },
     "execution_count": 100,
     "metadata": {},
     "output_type": "execute_result"
    }
   ],
   "source": [
    "df[\"molecule/test_type\"].value_counts().tail()"
   ]
  },
  {
   "cell_type": "code",
   "execution_count": 101,
   "id": "404d1908",
   "metadata": {},
   "outputs": [],
   "source": [
    "# Here, column Molecule/Test Type gives information on test type and consituting molecules present in it. Hence dropping it.\n",
    "df.drop(\"molecule/test_type\",axis=1,inplace=True)"
   ]
  },
  {
   "cell_type": "markdown",
   "id": "eff8c762",
   "metadata": {},
   "source": [
    "### Brand"
   ]
  },
  {
   "cell_type": "code",
   "execution_count": 102,
   "id": "92d74fcd",
   "metadata": {},
   "outputs": [
    {
     "data": {
      "text/plain": [
       "Generic      7098\n",
       "Determine     799\n",
       "Uni-Gold      373\n",
       "Aluvia        250\n",
       "Kaletra       161\n",
       "Name: brand, dtype: int64"
      ]
     },
     "execution_count": 102,
     "metadata": {},
     "output_type": "execute_result"
    }
   ],
   "source": [
    "df[\"brand\"].value_counts().head()"
   ]
  },
  {
   "cell_type": "code",
   "execution_count": 103,
   "id": "4e4536ba",
   "metadata": {},
   "outputs": [
    {
     "data": {
      "text/plain": [
       "Bundi          2\n",
       "InstantCHEK    2\n",
       "Visitect       1\n",
       "CareStart      1\n",
       "Pepti-LAV      1\n",
       "Name: brand, dtype: int64"
      ]
     },
     "execution_count": 103,
     "metadata": {},
     "output_type": "execute_result"
    }
   ],
   "source": [
    "df[\"brand\"].value_counts().tail()"
   ]
  },
  {
   "cell_type": "code",
   "execution_count": 104,
   "id": "86102303",
   "metadata": {},
   "outputs": [
    {
     "data": {
      "text/plain": [
       "Generic      0.701453\n",
       "Determine    0.078960\n",
       "Uni-Gold     0.036861\n",
       "Aluvia       0.024706\n",
       "Kaletra      0.015911\n",
       "Name: brand, dtype: float64"
      ]
     },
     "execution_count": 104,
     "metadata": {},
     "output_type": "execute_result"
    }
   ],
   "source": [
    "df[\"brand\"].value_counts(normalize=True).head()"
   ]
  },
  {
   "cell_type": "code",
   "execution_count": 105,
   "id": "d27161d2",
   "metadata": {},
   "outputs": [],
   "source": [
    "other_brand=df[\"brand\"].value_counts().to_dict()\n",
    "other_catb=[]\n",
    "for key,val in other_brand.items():\n",
    "    if val<=1000:\n",
    "        other_catb.append(key)  "
   ]
  },
  {
   "cell_type": "code",
   "execution_count": 106,
   "id": "b57eb5bd",
   "metadata": {},
   "outputs": [],
   "source": [
    "df[\"brand\"]=df[\"brand\"].replace(other_catb,\"other\")"
   ]
  },
  {
   "cell_type": "code",
   "execution_count": 107,
   "id": "c55bc6fa",
   "metadata": {},
   "outputs": [],
   "source": [
    "def barplot(df,cols):\n",
    "    plt.figure(figsize=(25,10))\n",
    "    df.value_counts().plot.bar()\n",
    "    plt.title(\"barplot for {}\".format(cols))\n",
    "    plt.show()"
   ]
  },
  {
   "cell_type": "code",
   "execution_count": 108,
   "id": "c871e3b7",
   "metadata": {},
   "outputs": [
    {
     "data": {
      "image/png": "[encoded data removed]",
      "text/plain": [
       "<Figure size 1800x720 with 1 Axes>"
      ]
     },
     "metadata": {
      "needs_background": "light"
     },
     "output_type": "display_data"
    }
   ],
   "source": [
    "barplot(df[\"brand\"],\"brand\")"
   ]
  },
  {
   "cell_type": "markdown",
   "id": "8db71323",
   "metadata": {},
   "source": [
    "### Dosage_form"
   ]
  },
  {
   "cell_type": "code",
   "execution_count": 109,
   "id": "eb83e372",
   "metadata": {},
   "outputs": [
    {
     "data": {
      "text/plain": [
       "Tablet           3462\n",
       "Tablet - FDC     2659\n",
       "Test kit         1575\n",
       "Oral solution     712\n",
       "Capsule           706\n",
       "Name: dosage_form, dtype: int64"
      ]
     },
     "execution_count": 109,
     "metadata": {},
     "output_type": "execute_result"
    }
   ],
   "source": [
    "df[\"dosage_form\"].value_counts().head()"
   ]
  },
  {
   "cell_type": "code",
   "execution_count": 110,
   "id": "1ed6ef77",
   "metadata": {},
   "outputs": [
    {
     "data": {
      "text/plain": [
       "Tablet - FDC + co-blister    20\n",
       "Tablet - FDC + blister       15\n",
       "Tablet - blister             10\n",
       "Injection                     6\n",
       "Oral powder                   1\n",
       "Name: dosage_form, dtype: int64"
      ]
     },
     "execution_count": 110,
     "metadata": {},
     "output_type": "execute_result"
    }
   ],
   "source": [
    "df[\"dosage_form\"].value_counts().tail()"
   ]
  },
  {
   "cell_type": "code",
   "execution_count": 111,
   "id": "c215acfd",
   "metadata": {},
   "outputs": [],
   "source": [
    "def barplot(df,cols):\n",
    "    plt.figure(figsize=(25,10))\n",
    "    df.value_counts().plot.bar()\n",
    "    plt.title(\"barplot for {}\".format(cols))\n",
    "    plt.show()"
   ]
  },
  {
   "cell_type": "code",
   "execution_count": 112,
   "id": "8333a509",
   "metadata": {},
   "outputs": [
    {
     "data": {
      "image/png": "[encoded data removed]",
      "text/plain": [
       "<Figure size 1800x720 with 1 Axes>"
      ]
     },
     "metadata": {
      "needs_background": "light"
     },
     "output_type": "display_data"
    }
   ],
   "source": [
    "barplot(df[\"dosage_form\"],\"dosage_form\")"
   ]
  },
  {
   "cell_type": "code",
   "execution_count": 113,
   "id": "7e14de03",
   "metadata": {},
   "outputs": [],
   "source": [
    "#dropping dosage_form as it is dependent on other feature named dosage \n",
    "df.drop(\"dosage_form\",axis=1,inplace=True)"
   ]
  },
  {
   "cell_type": "markdown",
   "id": "1c0ef985",
   "metadata": {},
   "source": [
    "### Unit_of_measure_(per_pack)"
   ]
  },
  {
   "cell_type": "code",
   "execution_count": 114,
   "id": "95f5d6bd",
   "metadata": {},
   "outputs": [
    {
     "data": {
      "text/plain": [
       "60      3993\n",
       "30      2580\n",
       "100      974\n",
       "240      655\n",
       "120      474\n",
       "20       470\n",
       "90       219\n",
       "300      153\n",
       "1        126\n",
       "25       114\n",
       "180       76\n",
       "200       75\n",
       "270       51\n",
       "336       39\n",
       "40        25\n",
       "84        22\n",
       "1000      16\n",
       "50        12\n",
       "3          8\n",
       "540        7\n",
       "720        5\n",
       "18         4\n",
       "2          4\n",
       "5          4\n",
       "168        3\n",
       "36         3\n",
       "12         2\n",
       "24         2\n",
       "160        1\n",
       "144        1\n",
       "48         1\n",
       "Name: unit_of_measure_(per_pack), dtype: int64"
      ]
     },
     "execution_count": 114,
     "metadata": {},
     "output_type": "execute_result"
    }
   ],
   "source": [
    "df[\"unit_of_measure_(per_pack)\"].value_counts()"
   ]
  },
  {
   "cell_type": "markdown",
   "id": "fc85ba43",
   "metadata": {},
   "source": [
    "### line_item_quantity"
   ]
  },
  {
   "cell_type": "code",
   "execution_count": 115,
   "id": "896a6c0d",
   "metadata": {},
   "outputs": [
    {
     "data": {
      "text/plain": [
       "10000    93\n",
       "1000     91\n",
       "100      85\n",
       "2000     73\n",
       "5000     69\n",
       "Name: line_item_quantity, dtype: int64"
      ]
     },
     "execution_count": 115,
     "metadata": {},
     "output_type": "execute_result"
    }
   ],
   "source": [
    "df[\"line_item_quantity\"].value_counts().head()"
   ]
  },
  {
   "cell_type": "code",
   "execution_count": 116,
   "id": "1fd89ed9",
   "metadata": {},
   "outputs": [
    {
     "data": {
      "text/plain": [
       "6118      1\n",
       "6110      1\n",
       "16347     1\n",
       "2004      1\n",
       "206853    1\n",
       "Name: line_item_quantity, dtype: int64"
      ]
     },
     "execution_count": 116,
     "metadata": {},
     "output_type": "execute_result"
    }
   ],
   "source": [
    "df[\"line_item_quantity\"].value_counts().tail()"
   ]
  },
  {
   "cell_type": "markdown",
   "id": "59078333",
   "metadata": {},
   "source": [
    "### Manufacturing_site"
   ]
  },
  {
   "cell_type": "code",
   "execution_count": 117,
   "id": "474d970d",
   "metadata": {},
   "outputs": [
    {
     "data": {
      "text/plain": [
       "Aurobindo Unit III, India         3056\n",
       "Mylan (formerly Matrix) Nashik    1383\n",
       "Hetero Unit III Hyderabad IN       858\n",
       "Cipla, Goa, India                  652\n",
       "Strides, Bangalore, India.         530\n",
       "Name: manufacturing_site, dtype: int64"
      ]
     },
     "execution_count": 117,
     "metadata": {},
     "output_type": "execute_result"
    }
   ],
   "source": [
    "df[\"manufacturing_site\"].value_counts().head()"
   ]
  },
  {
   "cell_type": "code",
   "execution_count": 118,
   "id": "9b6e1e11",
   "metadata": {},
   "outputs": [
    {
     "data": {
      "text/plain": [
       "Remedica, Limassol, Cyprus     1\n",
       "Medochemie Factory A, CY       1\n",
       "INVERNESS ORGENICS LINE        1\n",
       "MedMira Inc.                   1\n",
       "Gland Pharma, Hyderabad, IN    1\n",
       "Name: manufacturing_site, dtype: int64"
      ]
     },
     "execution_count": 118,
     "metadata": {},
     "output_type": "execute_result"
    }
   ],
   "source": [
    "df[\"manufacturing_site\"].value_counts().tail()"
   ]
  },
  {
   "cell_type": "code",
   "execution_count": 119,
   "id": "d0e62834",
   "metadata": {},
   "outputs": [
    {
     "name": "stdout",
     "output_type": "stream",
     "text": [
      "manufacturing_site\n",
      "Aurobindo Unit III, India         3056\n",
      "Mylan (formerly Matrix) Nashik    1383\n",
      "Hetero Unit III Hyderabad IN       858\n",
      "Cipla, Goa, India                  652\n",
      "Strides, Bangalore, India.         530\n",
      "Alere Medical Co., Ltd.            481\n",
      "Trinity Biotech, Plc               405\n",
      "ABBVIE Ludwigshafen Germany        366\n",
      "Inverness Japan                    345\n",
      "ABBVIE (Abbott) Logis. UK          215\n",
      "dtype: int64\n"
     ]
    },
    {
     "data": {
      "text/plain": [
       "Text(0.5, 0, 'Manufacturing Site Name')"
      ]
     },
     "execution_count": 119,
     "metadata": {},
     "output_type": "execute_result"
    },
    {
     "data": {
      "image/png": "[encoded data removed]",
      "text/plain": [
       "<Figure size 1584x432 with 1 Axes>"
      ]
     },
     "metadata": {
      "needs_background": "light"
     },
     "output_type": "display_data"
    }
   ],
   "source": [
    "plt.figure(figsize=(22,6))\n",
    "TopManufacturingSite=df.groupby('manufacturing_site').size().nlargest(10)\n",
    "print(TopManufacturingSite)\n",
    "TopManufacturingSite.plot(kind='bar')\n",
    "plt.title('Top 10 manufacturing_site \\n')\n",
    "plt.ylabel('Total Count')\n",
    "plt.xlabel('Manufacturing Site Name')"
   ]
  },
  {
   "cell_type": "code",
   "execution_count": 120,
   "id": "283b631d",
   "metadata": {},
   "outputs": [],
   "source": [
    "other_manufacture=df[\"manufacturing_site\"].value_counts().to_dict()\n",
    "other_cat=[]\n",
    "for key,val in other_manufacture.items():\n",
    "    if val<=500:\n",
    "        other_cat.append(key)  "
   ]
  },
  {
   "cell_type": "code",
   "execution_count": 121,
   "id": "10f774cd",
   "metadata": {},
   "outputs": [],
   "source": [
    "df[\"manufacturing_site\"]=df[\"manufacturing_site\"].replace(other_cat,\"other\")"
   ]
  },
  {
   "cell_type": "code",
   "execution_count": 122,
   "id": "bd99b478",
   "metadata": {},
   "outputs": [
    {
     "data": {
      "text/plain": [
       "<matplotlib.axes._subplots.AxesSubplot at 0x13d1b78af08>"
      ]
     },
     "execution_count": 122,
     "metadata": {},
     "output_type": "execute_result"
    },
    {
     "data": {
      "image/png": "[encoded data removed]",
      "text/plain": [
       "<Figure size 432x288 with 1 Axes>"
      ]
     },
     "metadata": {
      "needs_background": "light"
     },
     "output_type": "display_data"
    }
   ],
   "source": [
    "df[\"manufacturing_site\"].value_counts().plot.bar()"
   ]
  },
  {
   "cell_type": "markdown",
   "id": "94aff3b4",
   "metadata": {},
   "source": [
    "### First_line_designation"
   ]
  },
  {
   "cell_type": "code",
   "execution_count": 123,
   "id": "b850b369",
   "metadata": {},
   "outputs": [
    {
     "data": {
      "text/plain": [
       "Yes    6876\n",
       "No     3243\n",
       "Name: first_line_designation, dtype: int64"
      ]
     },
     "execution_count": 123,
     "metadata": {},
     "output_type": "execute_result"
    }
   ],
   "source": [
    "df[\"first_line_designation\"].value_counts()"
   ]
  },
  {
   "cell_type": "code",
   "execution_count": 124,
   "id": "a2124015",
   "metadata": {},
   "outputs": [
    {
     "data": {
      "text/plain": [
       "Yes    67.95\n",
       "No     32.05\n",
       "Name: first_line_designation, dtype: float64"
      ]
     },
     "execution_count": 124,
     "metadata": {},
     "output_type": "execute_result"
    }
   ],
   "source": [
    "np.round(df[\"first_line_designation\"].value_counts(normalize=True)*100,2)"
   ]
  },
  {
   "cell_type": "code",
   "execution_count": 125,
   "id": "6797b6b4",
   "metadata": {},
   "outputs": [
    {
     "data": {
      "image/png": "[encoded data removed]",
      "text/plain": [
       "<Figure size 1080x360 with 2 Axes>"
      ]
     },
     "metadata": {
      "needs_background": "light"
     },
     "output_type": "display_data"
    }
   ],
   "source": [
    "plot(df[\"first_line_designation\"],\"first line designation\")"
   ]
  },
  {
   "cell_type": "markdown",
   "id": "b331a6db",
   "metadata": {},
   "source": [
    "### Weight_(kilograms)"
   ]
  },
  {
   "cell_type": "code",
   "execution_count": 126,
   "id": "5b556545",
   "metadata": {},
   "outputs": [
    {
     "data": {
      "text/plain": [
       "Weight Captured Separately    1499\n",
       "2                               29\n",
       "6                               26\n",
       "1                               21\n",
       "60                              20\n",
       "5                               20\n",
       "3                               18\n",
       "4                               18\n",
       "14                              17\n",
       "12                              17\n",
       "Name: weight_(kilograms), dtype: int64"
      ]
     },
     "execution_count": 126,
     "metadata": {},
     "output_type": "execute_result"
    }
   ],
   "source": [
    "df[\"weight_(kilograms)\"].value_counts().head(10)"
   ]
  },
  {
   "cell_type": "code",
   "execution_count": 127,
   "id": "aa20bfc3",
   "metadata": {},
   "outputs": [
    {
     "data": {
      "text/plain": [
       "4900     1\n",
       "578      1\n",
       "3570     1\n",
       "21463    1\n",
       "4030     1\n",
       "Name: weight_(kilograms), dtype: int64"
      ]
     },
     "execution_count": 127,
     "metadata": {},
     "output_type": "execute_result"
    }
   ],
   "source": [
    "df[\"weight_(kilograms)\"].value_counts().tail()"
   ]
  },
  {
   "cell_type": "code",
   "execution_count": 128,
   "id": "30e980ff",
   "metadata": {},
   "outputs": [],
   "source": [
    "df.drop(\"weight_(kilograms)\",axis=1,inplace=True)"
   ]
  },
  {
   "cell_type": "markdown",
   "id": "e3ba9938",
   "metadata": {},
   "source": [
    "### freight_cost_(usd)"
   ]
  },
  {
   "cell_type": "code",
   "execution_count": 129,
   "id": "ad3229f5",
   "metadata": {},
   "outputs": [
    {
     "data": {
      "text/plain": [
       "Freight Included in Commodity Cost    1440\n",
       "Invoiced Separately                    231\n",
       "9736.1                                  36\n",
       "6147.18                                 27\n",
       "13398.06                                16\n",
       "Name: freight_cost_(usd), dtype: int64"
      ]
     },
     "execution_count": 129,
     "metadata": {},
     "output_type": "execute_result"
    }
   ],
   "source": [
    "df[\"freight_cost_(usd)\"].value_counts().head()"
   ]
  },
  {
   "cell_type": "code",
   "execution_count": 130,
   "id": "6aed8b85",
   "metadata": {},
   "outputs": [
    {
     "data": {
      "text/plain": [
       "13257.79    1\n",
       "6568.7      1\n",
       "55886.43    1\n",
       "8114.11     1\n",
       "15759.47    1\n",
       "Name: freight_cost_(usd), dtype: int64"
      ]
     },
     "execution_count": 130,
     "metadata": {},
     "output_type": "execute_result"
    }
   ],
   "source": [
    "df[\"freight_cost_(usd)\"].value_counts().tail()"
   ]
  },
  {
   "cell_type": "code",
   "execution_count": 131,
   "id": "ebcbd5cc",
   "metadata": {},
   "outputs": [],
   "source": [
    "def trans_freight_cost(x):\n",
    "    if x.find(\"See\")!=-1:\n",
    "        return np.nan\n",
    "    elif x==\"Freight Included in Commodity Cost\" or x==\"Invoiced Separately\":\n",
    "        return 0\n",
    "    else:\n",
    "        return x"
   ]
  },
  {
   "cell_type": "code",
   "execution_count": 132,
   "id": "62c6957b",
   "metadata": {},
   "outputs": [],
   "source": [
    "df[\"freight_cost_(usd)\"]=df[\"freight_cost_(usd)\"].apply(trans_freight_cost)"
   ]
  },
  {
   "cell_type": "code",
   "execution_count": 133,
   "id": "b69c09c6",
   "metadata": {},
   "outputs": [
    {
     "data": {
      "text/plain": [
       "0           1671\n",
       "9736.1        36\n",
       "6147.18       27\n",
       "13398.06      16\n",
       "7329.83       12\n",
       "Name: freight_cost_(usd), dtype: int64"
      ]
     },
     "execution_count": 133,
     "metadata": {},
     "output_type": "execute_result"
    }
   ],
   "source": [
    "df[\"freight_cost_(usd)\"].value_counts().head()"
   ]
  },
  {
   "cell_type": "code",
   "execution_count": 134,
   "id": "605362ae",
   "metadata": {},
   "outputs": [
    {
     "data": {
      "text/plain": [
       "count     7725\n",
       "unique    5343\n",
       "top          0\n",
       "freq      1671\n",
       "Name: freight_cost_(usd), dtype: int64"
      ]
     },
     "execution_count": 134,
     "metadata": {},
     "output_type": "execute_result"
    }
   ],
   "source": [
    "df[\"freight_cost_(usd)\"].describe()"
   ]
  },
  {
   "cell_type": "code",
   "execution_count": 135,
   "id": "5a97106a",
   "metadata": {},
   "outputs": [
    {
     "data": {
      "text/plain": [
       "po_/_so_#                          0\n",
       "asn/dn_#                           0\n",
       "country                            0\n",
       "fulfill_via                        0\n",
       "vendor_inco_term                   0\n",
       "pq_first_sent_to_client_date       0\n",
       "scheduled_delivery_date            0\n",
       "delivered_to_client_date           0\n",
       "delivery_recorded_date             0\n",
       "product_group                      0\n",
       "sub_classification                 0\n",
       "vendor                             0\n",
       "brand                              0\n",
       "unit_of_measure_(per_pack)         0\n",
       "line_item_quantity                 0\n",
       "line_item_value                    0\n",
       "pack_price                         0\n",
       "unit_price                         0\n",
       "manufacturing_site                 0\n",
       "first_line_designation             0\n",
       "freight_cost_(usd)              2394\n",
       "shipment_mode                      0\n",
       "line_item_insurance_(usd)          0\n",
       "dtype: int64"
      ]
     },
     "execution_count": 135,
     "metadata": {},
     "output_type": "execute_result"
    }
   ],
   "source": [
    "df.isna().sum()"
   ]
  },
  {
   "cell_type": "code",
   "execution_count": 136,
   "id": "019acb35",
   "metadata": {},
   "outputs": [
    {
     "data": {
      "text/plain": [
       "0      780.34\n",
       "1      4521.5\n",
       "2     1653.78\n",
       "3    16007.06\n",
       "4    45450.08\n",
       "Name: freight_cost_(usd), dtype: object"
      ]
     },
     "execution_count": 136,
     "metadata": {},
     "output_type": "execute_result"
    }
   ],
   "source": [
    "median_value=df[\"freight_cost_(usd)\"].median()\n",
    "df[\"freight_cost_(usd)\"]=df[\"freight_cost_(usd)\"].replace(np.nan,median_value)\n",
    "df[\"freight_cost_(usd)\"].head()"
   ]
  },
  {
   "cell_type": "code",
   "execution_count": 137,
   "id": "9d91d384",
   "metadata": {},
   "outputs": [],
   "source": [
    "df[\"freight_cost_(usd)\"]=df[\"freight_cost_(usd)\"].astype(\"float\")"
   ]
  },
  {
   "cell_type": "code",
   "execution_count": 138,
   "id": "36f7a2f0",
   "metadata": {},
   "outputs": [
    {
     "name": "stdout",
     "output_type": "stream",
     "text": [
      "Description of freight_cost_(usd)\n",
      "----------------------------------------------------------------------------\n",
      "count     10119.000000\n",
      "mean       7536.104702\n",
      "std       13156.759791\n",
      "min           0.000000\n",
      "25%        1211.490000\n",
      "50%        3526.690000\n",
      "75%        7783.400000\n",
      "max      289653.200000\n",
      "Name: freight_cost_(usd), dtype: float64\n",
      "\n",
      " Skewness of freight_cost_(usd)\n",
      "----------------------------------------------------------------------------\n",
      "5.6617\n",
      "\n",
      " Histogram and Boxplot of freight_cost_(usd)\n",
      "----------------------------------------------------------------------------\n",
      "AxesSubplot(0.125,0.125;0.352273x0.755)\n",
      "AxesSubplot(0.547727,0.125;0.352273x0.755)\n"
     ]
    },
    {
     "data": {
      "image/png": "[encoded data removed]",
      "text/plain": [
       "<Figure size 1008x360 with 2 Axes>"
      ]
     },
     "metadata": {
      "needs_background": "light"
     },
     "output_type": "display_data"
    }
   ],
   "source": [
    "univariateAnalysis_numeric('freight_cost_(usd)',100)"
   ]
  },
  {
   "cell_type": "code",
   "execution_count": 139,
   "id": "4c8c663b",
   "metadata": {},
   "outputs": [
    {
     "data": {
      "image/png": "[encoded data removed]",
      "text/plain": [
       "<Figure size 1080x360 with 2 Axes>"
      ]
     },
     "metadata": {
      "needs_background": "light"
     },
     "output_type": "display_data"
    }
   ],
   "source": [
    "df[\"shipment_mode\"].value_counts()\n",
    "\n",
    "plot(df[\"shipment_mode\"],\"shipment mode\")"
   ]
  }
 ],
 "metadata": {
  "kernelspec": {
   "display_name": "Python 3 (ipykernel)",
   "language": "python",
   "name": "python3"
  },
  "language_info": {
   "codemirror_mode": {
    "name": "ipython",
    "version": 3
   },
   "file_extension": ".py",
   "mimetype": "text/x-python",
   "name": "python",
   "nbconvert_exporter": "python",
   "pygments_lexer": "ipython3",
   "version": "3.11.5"
  },
  "vscode": {
   "interpreter": {
    "hash": "3c28e26ec33b1dd997eddaf13ed95eed5177a910377717165f30f854b19eb22a"
   }
  }
 },
 "nbformat": 4,
 "nbformat_minor": 5
}
